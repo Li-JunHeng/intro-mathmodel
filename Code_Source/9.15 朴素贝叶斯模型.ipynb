{
 "cells": [
  {
   "cell_type": "code",
   "execution_count": 1,
   "metadata": {},
   "outputs": [
    {
     "name": "stdout",
     "output_type": "stream",
     "text": [
      "Start naive bayes training...\n",
      "Testing on 1 samples...\n",
      "Sample 0 predicted as 0\n"
     ]
    },
    {
     "data": {
      "text/plain": [
       "array([0.])"
      ]
     },
     "execution_count": 1,
     "metadata": {},
     "output_type": "execute_result"
    }
   ],
   "source": [
    "# @Author: phd\n",
    "# @Date: 2019/7/10\n",
    "# @Site: github.com/phdsky\n",
    "# @Description: NULL\n",
    "\n",
    "import numpy as np\n",
    "\n",
    "X_train = np.array([[0, 0], [0, 1], [0, 1], [0, 0], [0, 0],\n",
    "                    [1, 0], [1, 1], [1, 1], [1, 2], [1, 2],\n",
    "                    [2, 2], [2, 1], [2, 1], [2, 2], [2, 2]])\n",
    "\n",
    "y_train = np.array([0, 0, 1, 1, 0, 0, 0, 1, 1, 1, 1, 1, 1, 1, 0])\n",
    "\n",
    "X_test = np.array([[1, 0]])\n",
    "\n",
    "N = len(y_train)\n",
    "K = len(np.unique(y_train))\n",
    "S = len(np.unique(X_train[:, 0]))  # 特征取值\n",
    "D = X_train.shape[1]  # 维度\n",
    "n = len(X_test)\n",
    "d = X_test.shape[1]\n",
    "prior = np.zeros(K)\n",
    "condition = np.zeros((K, D, S))  #条件概率\n",
    "lambda_ = 3\n",
    "\n",
    "\n",
    "# 朴素贝叶斯训练\n",
    "def trainNB(X_train, y_train):\n",
    "    for i in range(0, N):\n",
    "        prior[y_train[i]] += 1\n",
    "        for j in range(0, D):\n",
    "            condition[y_train[i]][j][X_train[i][j]] += 1\n",
    "    prior_probability = (prior + lambda_) / (N + K * lambda_)  # 拉普拉斯平滑\n",
    "    return prior_probability, condition\n",
    "\n",
    "\n",
    "def predictNB(prior_probability, condition, X_test):\n",
    "    predict_label = -1 * np.ones(n)\n",
    "    for i in range(0, n):\n",
    "        predict_probability = np.ones(K)\n",
    "        to_predict = X_test[i]\n",
    "        for j in range(0, K):\n",
    "            prior_prob = prior_probability[j]\n",
    "            for k in range(0, d):\n",
    "                conditional_probability = (condition[j][k][to_predict[k]] + lambda_) / (\n",
    "                            sum(condition[j][k]) + S * lambda_)\n",
    "                predict_probability[j] *= conditional_probability\n",
    "            predict_probability[j] *= prior_prob\n",
    "        predict_label[i] = np.argmax(predict_probability)\n",
    "        print(\"Sample %d predicted as %d\" % (i, predict_label[i]))\n",
    "    return predict_label\n",
    "\n",
    "\n",
    "print(\"Start naive bayes training...\")\n",
    "prior, conditional = trainNB(X_train=X_train, y_train=y_train)\n",
    "print(\"Testing on %d samples...\" % len(X_test))\n",
    "predictNB(prior_probability=prior, condition=conditional, X_test=X_test)\n",
    "\n"
   ]
  }
 ],
 "metadata": {
  "kernelspec": {
   "display_name": "base",
   "language": "python",
   "name": "python3"
  },
  "language_info": {
   "codemirror_mode": {
    "name": "ipython",
    "version": 3
   },
   "file_extension": ".py",
   "mimetype": "text/x-python",
   "name": "python",
   "nbconvert_exporter": "python",
   "pygments_lexer": "ipython3",
   "version": "3.7.6"
  }
 },
 "nbformat": 4,
 "nbformat_minor": 2
}
