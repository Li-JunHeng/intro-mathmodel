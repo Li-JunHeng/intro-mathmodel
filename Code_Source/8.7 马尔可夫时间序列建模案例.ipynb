{
 "cells": [
  {
   "cell_type": "code",
   "execution_count": 20,
   "metadata": {},
   "outputs": [
    {
     "name": "stderr",
     "output_type": "stream",
     "text": [
      "e:\\anaconda\\lib\\site-packages\\ipykernel_launcher.py:10: FutureWarning: As the xlwt package is no longer maintained, the xlwt engine will be removed in a future version of pandas. This is the only engine in pandas that supports writing in the xls format. Install openpyxl and write to an xlsx file instead. You can set the option io.excel.xls.writer to 'xlwt' to silence this warning. While this option is deprecated and will also raise a warning, it can be globally set and the warning suppressed.\n",
      "  # Remove the CWD from sys.path while we load stuff.\n"
     ]
    }
   ],
   "source": [
    "import tushare as ts\n",
    "\n",
    "token = ''  # 设置tocken\n",
    "pro = ts.pro_api(token)  # 初始化pro接口\n",
    "# 获取数据\n",
    "df_gldq = pro.daily(ts_code='000001.sz', start_date='20200101', end_date='20240126')\n",
    "\n",
    "df_gldq.sort_values(by='trade_date', inplace=True)\n",
    "# 打印数据\n",
    "df_gldq.to_excel('stock.xls')\n"
   ]
  },
  {
   "cell_type": "code",
   "execution_count": 22,
   "metadata": {},
   "outputs": [
    {
     "name": "stdout",
     "output_type": "stream",
     "text": [
      "原始数据的大小： (988, 12)\n",
      "原始数据的列名 Index(['Unnamed: 0', 'ts_code', 'trade_date', 'open', 'high', 'low', 'close',\n",
      "       'pre_close', 'change', 'pct_chg', 'vol', 'amount'],\n",
      "      dtype='object')\n",
      "   Unnamed: 0                    trade_date  close         vol\n",
      "0         987 1970-01-01 00:00:00.020200102  16.87  1530231.87\n",
      "1         986 1970-01-01 00:00:00.020200103  17.18  1116194.81\n",
      "2         985 1970-01-01 00:00:00.020200106  17.07   862083.50\n",
      "3         984 1970-01-01 00:00:00.020200107  17.15   728607.56\n",
      "4         983 1970-01-01 00:00:00.020200108  16.66   847824.12\n",
      "输入数据的大小： (987, 2)\n",
      "训练集的大小： (887, 2)\n",
      "测试集的大小： (100, 2)\n"
     ]
    }
   ],
   "source": [
    "import pandas as pd\n",
    "import numpy as np\n",
    "#数据处理\n",
    "df = pd.read_excel(\"stock.xls\")\n",
    "print(\"原始数据的大小：\", df.shape)\n",
    "print(\"原始数据的列名\", df.columns)\n",
    "\n",
    "df['trade_date'] = pd.to_datetime(df['trade_date'])\n",
    "df.reset_index(inplace=True, drop=False)\n",
    "df.drop(['index', 'ts_code', 'open', 'high', 'low' , 'pre_close', 'change', 'pct_chg', 'amount'], axis=1, inplace=True)\n",
    "#df['trade_date'] = df['trade_date'].apply(datetime.datetime.toordinal)\n",
    "print(df.head())\n",
    "dates = df['trade_date'][1:]\n",
    "close_v = df['close']\n",
    "volume = df['vol'][1:]\n",
    "diff = np.diff(close_v)\n",
    "#获得输入数据\n",
    "X = np.column_stack([diff, volume])\n",
    "print(\"输入数据的大小：\", X.shape)   #(1504, 2)\n",
    "\n",
    "min = X.mean(axis=0)[0] - 8*X.std(axis=0)[0]   #最小值\n",
    "max = X.mean(axis=0)[0] + 8*X.std(axis=0)[0]  #最大值\n",
    "X = pd.DataFrame(X)\n",
    "#异常值设为均值\n",
    "for i in range(len(X)):  #dataframe的遍历\n",
    "    if (X.loc[i, 0]< min) | (X.loc[i, 0] > max):\n",
    "            X.loc[i, 0] = X.mean(axis=0)[0]\n",
    "\n",
    "#数据集的划分\n",
    "X_Test = X.iloc[:-100]\n",
    "X_Pre = X.iloc[-100:]\n",
    "print(\"训练集的大小：\", X_Test.shape)     #(1474, 2)\n",
    "print(\"测试集的大小：\", X_Pre.shape)      #(30, 2)\n"
   ]
  },
  {
   "cell_type": "code",
   "execution_count": 23,
   "metadata": {},
   "outputs": [],
   "source": [
    "from hmmlearn.hmm import GaussianHMM\n",
    "model = GaussianHMM(n_components=8, covariance_type='diag', n_iter=1000, min_covar=0.1)\n",
    "model.fit(X_Test)\n",
    "\n",
    "expected_returns_volumes = np.dot(model.transmat_, model.means_)\n",
    "expected_returns = expected_returns_volumes[:,0]\n",
    "predicted_price = []  #预测值\n",
    "current_price = close_v.iloc[-100]\n",
    "for i in range(len(X_Pre)):\n",
    "    hidden_states = model.predict(X_Pre.iloc[i].values.reshape(1,2))  #将预测的第一组作为初始值\n",
    "    predicted_price.append(current_price+expected_returns[hidden_states])\n",
    "    current_price = predicted_price[i]\n"
   ]
  },
  {
   "cell_type": "code",
   "execution_count": 24,
   "metadata": {},
   "outputs": [
    {
     "name": "stderr",
     "output_type": "stream",
     "text": [
      "e:\\anaconda\\lib\\site-packages\\ipykernel_launcher.py:6: UserWarning: marker is redundantly defined by the 'marker' keyword argument and the fmt string \"o\" (-> marker='o'). The keyword argument will take precedence.\n",
      "  \n",
      "e:\\anaconda\\lib\\site-packages\\ipykernel_launcher.py:7: UserWarning: marker is redundantly defined by the 'marker' keyword argument and the fmt string \"o\" (-> marker='o'). The keyword argument will take precedence.\n",
      "  import sys\n"
     ]
    },
    {
     "data": {
      "image/png": "[encoded data removed]",
      "text/plain": [
       "<Figure size 800x600 with 1 Axes>"
      ]
     },
     "metadata": {},
     "output_type": "display_data"
    }
   ],
   "source": [
    "import matplotlib.pyplot as plt\n",
    "x = dates[-99: ]\n",
    "y_act = close_v[-99:]\n",
    "y_pre = pd.Series(predicted_price[:-1])\n",
    "plt.figure(figsize=(8,6))\n",
    "plt.plot_date(x, y_act,linestyle=\"-\",marker=\"None\",color='g')\n",
    "plt.plot_date(x, y_pre,linestyle=\"-\",marker=\"None\",color='r')\n",
    "plt.legend(['Actual', 'Predicted'])\n",
    "plt.show()\n"
   ]
  }
 ],
 "metadata": {
  "kernelspec": {
   "display_name": "base",
   "language": "python",
   "name": "python3"
  },
  "language_info": {
   "codemirror_mode": {
    "name": "ipython",
    "version": 3
   },
   "file_extension": ".py",
   "mimetype": "text/x-python",
   "name": "python",
   "nbconvert_exporter": "python",
   "pygments_lexer": "ipython3",
   "version": "3.7.6"
  },
  "orig_nbformat": 4
 },
 "nbformat": 4,
 "nbformat_minor": 2
}
