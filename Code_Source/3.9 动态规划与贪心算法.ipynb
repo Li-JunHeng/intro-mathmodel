{
 "cells": [
  {
   "cell_type": "code",
   "execution_count": 1,
   "metadata": {},
   "outputs": [
    {
     "name": "stdout",
     "output_type": "stream",
     "text": [
      "最大收益 61.0\n",
      "(0, 0)\t(11, 1)\t(12, 2)\t(13, 3)\t(14, 4)\t(15, 5)\t\n",
      "\n",
      "(0, 0)\t(11, 0)\t(12, 0)\t(16, 2)\t(21, 3)\t(26, 4)\t\n",
      "\n",
      "(0, 0)\t(11, 0)\t(13, 1)\t(21, 2)\t(41, 3)\t(43, 4)\t\n",
      "\n",
      "(0, 0)\t(11, 0)\t(31, 1)\t(33, 1)\t(41, 0)\t(61, 1)\t\n",
      "\n",
      "第4个项目投资1.0元\n",
      "第3个项目投资3.0元\n",
      "第2个项目投资0.0元\n",
      "第1个项目投资1.0元\n"
     ]
    }
   ],
   "source": [
    "import numpy as np\n",
    "m = 5  # 投资总额\n",
    "n = 6\n",
    "k = 4  # 项目数\n",
    "# m元钱，n项投资 k个项目\n",
    "dp = np.zeros((m, n))  # dp[i][j]  从1-i号项目中选择，投资j万元，所取得的最大收益\n",
    "mark = np.zeros((m, n))  # 从1-i号项目中选择，投资j万元，获得最大收益时，在第i号项目中投资了多少钱\n",
    "f = np.array([[0, 0, 0, 0, 0, 0],\n",
    "              [0, 11, 12, 13, 14, 15],\n",
    "              [0, 0, 5, 10, 15, 20],\n",
    "              [0, 2, 10, 30, 32, 40],\n",
    "              [0, 20, 21, 22, 23, 24]])\n",
    "# 初始化第一行\n",
    "for j in range(m + 1):\n",
    "    dp[1][j] = f[1][j]\n",
    "    mark[1][j] = j\n",
    "for i in range(1, k + 1):\n",
    "    for j in range(1, m + 1):\n",
    "        for k in range(j):\n",
    "            if dp[i][j] < f[i][k] + dp[i - 1][j - k]:\n",
    "                dp[i][j] = f[i][k] + dp[i - 1][j - k]  # 更新当前最优解\n",
    "                mark[i][j] = k  # 更新标记函数\n",
    "\n",
    "print(\"最大收益\", dp[4][5])\n",
    "for i in range(1, k + 1):\n",
    "    for j in range(m + 1):\n",
    "        print(\"(%d, %d)\" % (dp[i][j], mark[i][j]), end=\"\\t\")\n",
    "    print(\"\\n\")\n",
    "for i in range(k, 0, -1):\n",
    "    print(f\"第{i}个项目投资{mark[i][m]}元\")\n",
    "    m = m - int(mark[i][m])\n",
    "\n",
    "\n"
   ]
  }
 ],
 "metadata": {
  "kernelspec": {
   "display_name": "base",
   "language": "python",
   "name": "python3"
  },
  "language_info": {
   "codemirror_mode": {
    "name": "ipython",
    "version": 3
   },
   "file_extension": ".py",
   "mimetype": "text/x-python",
   "name": "python",
   "nbconvert_exporter": "python",
   "pygments_lexer": "ipython3",
   "version": "3.7.6"
  },
  "orig_nbformat": 4
 },
 "nbformat": 4,
 "nbformat_minor": 2
}
