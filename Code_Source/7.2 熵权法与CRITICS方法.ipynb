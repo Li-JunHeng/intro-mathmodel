{
 "cells": [
  {
   "cell_type": "code",
   "execution_count": 4,
   "metadata": {},
   "outputs": [],
   "source": [
    "import numpy as np\n",
    "import pandas as pd\n",
    "def entropyWeight(data):\n",
    "    data = np.array(data)\n",
    "    # 归一化\n",
    "    P = data / data.sum(axis=0)\n",
    "    # 计算熵值\n",
    "    E = np.nansum(-P * np.log(P+0.000000001) / np.log(len(data)), axis=0)\n",
    "    # 计算权系数\n",
    "    return (1 - E) / (1 - E).sum()"
   ]
  },
  {
   "cell_type": "code",
   "execution_count": 5,
   "metadata": {},
   "outputs": [
    {
     "data": {
      "text/plain": [
       "array([0.15408619, 0.10370066, 0.16505631, 0.18947161, 0.14325385,\n",
       "       0.24443137])"
      ]
     },
     "execution_count": 5,
     "metadata": {},
     "output_type": "execute_result"
    }
   ],
   "source": [
    "import pandas as pd\n",
    "newdata=pd.read_excel(\"test.xlsx\",sheet_name='Sheet5')\n",
    "newdata['pH*']=1-abs(newdata['pH*']-7)\n",
    "newdata['CODMn']=1/newdata['CODMn']\n",
    "newdata['NH3-N']=1/newdata['NH3-N']\n",
    "newdata['垃圾密度']=1/newdata['垃圾密度']\n",
    "newdata=newdata.set_index('地点名称').dropna()\n",
    "newdata=(newdata-newdata.min())/(newdata.max()-newdata.min())\n",
    "\n",
    "entropyWeight(newdata)"
   ]
  },
  {
   "cell_type": "code",
   "execution_count": 8,
   "metadata": {},
   "outputs": [
    {
     "data": {
      "text/plain": [
       "pH*      0.180598\n",
       "DO       0.199151\n",
       "CODMn    0.185891\n",
       "NH3-N    0.097907\n",
       "鱼类密度     0.248081\n",
       "垃圾密度     0.088372\n",
       "dtype: float64"
      ]
     },
     "execution_count": 8,
     "metadata": {},
     "output_type": "execute_result"
    }
   ],
   "source": [
    "def CRITIC(df):\n",
    "    df = df.T\n",
    "    std_d=np.std(df,axis=1)\n",
    "    mean_d=np.mean(df,axis=1)\n",
    "    cor_d=np.corrcoef(df)\n",
    "    # 也可以使用df.corr()\n",
    "    w_j=(1-cor_d).sum(0) *std_d\n",
    "    # print(w_j)\n",
    "    w=(mean_d/(1-mean_d)*w_j)/sum(mean_d/(1-mean_d)*w_j)\n",
    "    return w\n",
    "CRITIC(newdata)"
   ]
  }
 ],
 "metadata": {
  "kernelspec": {
   "display_name": "base",
   "language": "python",
   "name": "python3"
  },
  "language_info": {
   "codemirror_mode": {
    "name": "ipython",
    "version": 3
   },
   "file_extension": ".py",
   "mimetype": "text/x-python",
   "name": "python",
   "nbconvert_exporter": "python",
   "pygments_lexer": "ipython3",
   "version": "3.7.6"
  },
  "orig_nbformat": 4
 },
 "nbformat": 4,
 "nbformat_minor": 2
}
