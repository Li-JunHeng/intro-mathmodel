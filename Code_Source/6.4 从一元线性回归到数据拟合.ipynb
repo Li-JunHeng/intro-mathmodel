{
 "cells": [
  {
   "cell_type": "code",
   "execution_count": 1,
   "metadata": {},
   "outputs": [
    {
     "name": "stdout",
     "output_type": "stream",
     "text": [
      "[ 2.00000000e+00 -1.42857143e-03 -1.50071429e+00  5.14285714e-02]\n",
      "   3            2\n",
      "2 x - 0.001429 x - 1.501 x + 0.05143\n"
     ]
    }
   ],
   "source": [
    "import numpy as np\n",
    "x = np.arange(-1.5, 1.6, 0.5)\n",
    "y = [-4.45, -0.45, 0.55, 0.05, -0.44, 0.54, 4.55]\n",
    "an = np.polyfit(x, y, 3)\n",
    "print(an)\n",
    "p1 = np.poly1d(an)\n",
    "print(p1)"
   ]
  },
  {
   "cell_type": "code",
   "execution_count": 3,
   "metadata": {},
   "outputs": [
    {
     "name": "stdout",
     "output_type": "stream",
     "text": [
      "[ 1.58969697 -0.99333333]\n"
     ]
    }
   ],
   "source": [
    "X=np.arange(1,11,1)\n",
    "Y=np.array([1.1,2.5,3.6,4.9,6.2,9.0,9.5,11.0,15.6,14.1])\n",
    "p=np.polyfit(X,Y,1)\n",
    "print(p)"
   ]
  },
  {
   "cell_type": "code",
   "execution_count": 4,
   "metadata": {},
   "outputs": [
    {
     "name": "stdout",
     "output_type": "stream",
     "text": [
      "[ 0.25514953 -0.01939261]\n"
     ]
    },
    {
     "data": {
      "image/png": "[encoded data removed]",
      "text/plain": [
       "<Figure size 640x480 with 1 Axes>"
      ]
     },
     "metadata": {},
     "output_type": "display_data"
    }
   ],
   "source": [
    "import matplotlib.pyplot as plt\n",
    "from scipy.interpolate import interp1d\n",
    "from scipy.optimize import curve_fit\n",
    "plt.rcParams['font.sans-serif'] = ['SimHei']  # 用来正常显示中文标签\n",
    "plt.rcParams['axes.unicode_minus'] = False\n",
    "def Pfun(X,a,b):\n",
    "    return 1/(a+b*X)\n",
    "popt,pcov=curve_fit(Pfun,X,Y)\n",
    "print(popt)\n",
    "\n",
    "plt.plot(X,Y,'*',X,np.polyval(p,X),'ro--')\n",
    "plt.plot(X,Pfun(X,*popt),'b-')\n",
    "plt.show()"
   ]
  },
  {
   "cell_type": "code",
   "execution_count": 5,
   "metadata": {},
   "outputs": [
    {
     "name": "stdout",
     "output_type": "stream",
     "text": [
      "                            OLS Regression Results                            \n",
      "==============================================================================\n",
      "Dep. Variable:                      y   R-squared:                       0.998\n",
      "Model:                            OLS   Adj. R-squared:                  0.998\n",
      "Method:                 Least Squares   F-statistic:                 1.724e+05\n",
      "Date:                Sat, 20 Jan 2024   Prob (F-statistic):               0.00\n",
      "Time:                        19:12:08   Log-Likelihood:                -219.93\n",
      "No. Observations:                1000   AIC:                             447.9\n",
      "Df Residuals:                     996   BIC:                             467.5\n",
      "Df Model:                           3                                         \n",
      "Covariance Type:            nonrobust                                         \n",
      "==============================================================================\n",
      "                 coef    std err          t      P>|t|      [0.025      0.975]\n",
      "------------------------------------------------------------------------------\n",
      "const          0.0003      0.010      0.033      0.974      -0.018       0.019\n",
      "x1             0.9943      0.009    109.490      0.000       0.977       1.012\n",
      "x2             2.0146      0.006    318.612      0.000       2.002       2.027\n",
      "x3             3.0018      0.005    629.901      0.000       2.992       3.011\n",
      "==============================================================================\n",
      "Omnibus:                        1.849   Durbin-Watson:                   1.945\n",
      "Prob(Omnibus):                  0.397   Jarque-Bera (JB):                1.749\n",
      "Skew:                          -0.028   Prob(JB):                        0.417\n",
      "Kurtosis:                       2.803   Cond. No.                         2.01\n",
      "==============================================================================\n",
      "\n",
      "Notes:\n",
      "[1] Standard Errors assume that the covariance matrix of the errors is correctly specified.\n"
     ]
    }
   ],
   "source": [
    "import statsmodels.api as sm\n",
    "import numpy as np\n",
    "x1=np.random.normal(0,1,1000)\n",
    "x2=np.random.normal(0,1.5,1000)\n",
    "x3=np.random.normal(0,2,1000)\n",
    "eps=np.random.normal(0,0.3,1000)\n",
    "c=np.array([1,2,3])\n",
    "x=np.c_[x1,x2,x3]\n",
    "y=x.dot(c)+eps\n",
    "# 理论上的方程应该是y=x1+2x2+3x3\n",
    "# 实际上的方程：y=w1x1+w2x2+w3x3+b\n",
    "x_model=sm.add_constant(x)\n",
    "model=sm.OLS(y,x_model)\n",
    "results=model.fit()\n",
    "print(results.summary())"
   ]
  }
 ],
 "metadata": {
  "kernelspec": {
   "display_name": "base",
   "language": "python",
   "name": "python3"
  },
  "language_info": {
   "codemirror_mode": {
    "name": "ipython",
    "version": 3
   },
   "file_extension": ".py",
   "mimetype": "text/x-python",
   "name": "python",
   "nbconvert_exporter": "python",
   "pygments_lexer": "ipython3",
   "version": "3.7.6"
  },
  "orig_nbformat": 4
 },
 "nbformat": 4,
 "nbformat_minor": 2
}
