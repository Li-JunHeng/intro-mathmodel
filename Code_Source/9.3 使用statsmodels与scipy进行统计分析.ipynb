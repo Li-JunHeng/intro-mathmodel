{
 "cells": [
  {
   "cell_type": "code",
   "execution_count": null,
   "metadata": {},
   "outputs": [],
   "source": [
    "'''\n",
    "# 统计相关模块stats\n",
    "sp.stats.norm.rvs()#标准正态分布\n",
    "sp.stats.norm.fit()#估算正态分布的参数\n",
    "sp.stats.norm.pdf()#计算对应位置的概率密度\n",
    "sp.state.norm.ppf()#找到标准正态分布中概率恰好为一半的点\n",
    "sp.stats.expon()#指数分布\n",
    "sp.stats.norm.cdf()#累积分布函数\n",
    "sp.stats.norm.sf()#残存函数\n",
    "sp.stats.norm.isf()#逆残存函数\n",
    "sp.stats.t()#t分布\n",
    "sp.stats.beta()#beta分布\n",
    "sp.stats.gamma()#gamma分布\n",
    "sp.stats.hypergeom()#超几何分布\n",
    "sp.stats.lognorm()#对数正态分布\n",
    "sp.stats.uniform()#均匀分布\n",
    "sp.stats.chi2()#卡方分布\n",
    "sp.stats.cauchy()#柯西分布\n",
    "sp.stats.laplace()#拉普拉斯分布\n",
    "sp.stats.rayleigh()#瑞利分布\n",
    "sp.stats.randint()#离散均匀分布\n",
    "sp.stats.f()#f分布\n",
    "sp.stats.binom()#二项分布\n",
    "sp.stats.poisson()#泊松分布\n",
    "sp.stats.rv_continuous()#自定义连续分布\n",
    "sp.stats.rv_discrete()#自定义离散分布\n",
    "sp.stats.mode()#计算数据的众数\n",
    "sp.stats.skew()#计算数据的偏度\n",
    "sp.stats.kurtosis()#计算数据的峰度\n",
    "sp.stats.ttest_rel()#配对样本t检验\n",
    "sp.stats.ttest_ind()#独立样本t检验\n",
    "sp.stats.ttest_1samp()#单样本t检验\n",
    "'''"
   ]
  },
  {
   "cell_type": "code",
   "execution_count": 1,
   "metadata": {},
   "outputs": [
    {
     "name": "stdout",
     "output_type": "stream",
     "text": [
      "Mean Std (0.015500820876900322, 0.9902117524959321)\n",
      "Skewtest pvalue SkewtestResult(statistic=0.31293717532854504, pvalue=0.7543283931856792)\n",
      "Kurtosistest pvalue KurtosistestResult(statistic=-0.9639379581725415, pvalue=0.3350770318291736)\n",
      "Normaltest pvalue NormaltestResult(statistic=1.0271060629084567, pvalue=0.5983657849853983)\n",
      "95 percentile 1.6688883807707933\n",
      "Percentile at 1 83.55555555555556\n"
     ]
    },
    {
     "data": {
      "image/png": "[encoded data removed]",
      "text/plain": [
       "<Figure size 640x480 with 1 Axes>"
      ]
     },
     "metadata": {},
     "output_type": "display_data"
    }
   ],
   "source": [
    "import matplotlib.pyplot as plt\n",
    "# 导入包\n",
    "from scipy import stats\n",
    "\n",
    "# 1.使用`scipy.stats`包按正态分布生成随机数\n",
    "generated = stats.norm.rvs(size=900)\n",
    "\n",
    "# 2.用正态分布去拟合生成的数据，得到其均值和标准差\n",
    "print(\"Mean\", \"Std\", stats.norm.fit(generated))\n",
    "# Mean Std (-0.027757190138192445, 0.9967355589828278)\n",
    "\n",
    "# 3.偏度（skewness）描述的是概率分布的偏斜（非对称）程度。我们来做一个偏度检验。\n",
    "# 该检验有两个返回值，其中第二个返回值为p-value，即观察到的数据集服从正态分布的概率，取值范围为0~1。\n",
    "print(\"Skewtest\", \"pvalue\", stats.skewtest(generated))\n",
    "# Skewtest pvalue SkewtestResult(statistic=-0.4227102833216121, pvalue=0.6725066519280437)\n",
    "# 因此，该数据集有67%的概率服从正态分布。\n",
    "\n",
    "# 4.峰度（kurtosis）描述的是概率分布曲线的陡峭程度。我们来做一个峰度检验。该检验与\n",
    "# 偏度检验类似，当然这里是针对峰度。\n",
    "print(\"Kurtosistest\", \"pvalue\", stats.kurtosistest(generated))\n",
    "# Kurtosistest pvalue KurtosistestResult(statistic=0.6422156432448409, pvalue=0.5207331773445296)\n",
    "\n",
    "# 5.正态性检验（normality test）可以检查数据集服从正态分布的程度。我们来做一个正态性\n",
    "# 检验。该检验同样有两个返回值，其中第二个返回值为p-value。\n",
    "print(\"Normaltest\", \"pvalue\", stats.normaltest(generated))\n",
    "# Normaltest pvalue NormaltestResult(statistic=0.5911249160542223, pvalue=0.7441129374456706)\n",
    "\n",
    "# 6.使用SciPy我们可以很方便地得到数据所在的区段中某一百分比处的数值\n",
    "print(\"95 percentile\", stats.scoreatpercentile(generated, 95))  # 95 percentile 1.6419459784929902\n",
    "\n",
    "# 7.将前一步反过来，我们也可以从数值1出发找到对应的百分比\n",
    "print(\"Percentile at 1\", stats.percentileofscore(generated, 1))  # Percentile at 1 84.44444444444444\n",
    "\n",
    "# 8.使用Matplotlib绘制生成数据的分布直方图。\n",
    "plt.hist(generated)\n",
    "plt.show()"
   ]
  },
  {
   "cell_type": "code",
   "execution_count": 2,
   "metadata": {},
   "outputs": [
    {
     "name": "stdout",
     "output_type": "stream",
     "text": [
      "Ttest_indResult(statistic=-1.3022440006355476, pvalue=0.19313343989106413)\n"
     ]
    }
   ],
   "source": [
    "from scipy import stats\n",
    "import numpy as np\n",
    "\n",
    "np.random.seed(12345678)\n",
    "rvs1 = stats.norm.rvs(loc=5, scale=10, size=500)\n",
    "rvs2 = stats.norm.rvs(loc=6, scale=10, size=500)\n",
    "print(stats.ttest_ind(rvs1, rvs2))\n",
    "\n",
    "# 两独立样本T检验\n",
    "# 用于比较两组数据是否来自于同一正态分布的总体。\n",
    "# 注意：如果要比较的两组数据不满足方差齐性， 需要在ttest_ind()函数中添加参数equal_var = False\n",
    "# Ttest_indResult(statistic=-1.3022440006355478, pvalue=0.19313343989106407)"
   ]
  },
  {
   "cell_type": "code",
   "execution_count": 3,
   "metadata": {},
   "outputs": [
    {
     "name": "stdout",
     "output_type": "stream",
     "text": [
      "Ttest_relResult(statistic=0.24101764965300979, pvalue=0.8096404344581155)\n"
     ]
    }
   ],
   "source": [
    "from scipy import stats\n",
    "import numpy as np\n",
    "\n",
    "np.random.seed(12345678)\n",
    "rvs1 = stats.norm.rvs(loc=5, scale=10, size=500)\n",
    "rvs2 = (stats.norm.rvs(loc=5, scale=10, size=500) + stats.norm.rvs(scale=0.2, size=500))\n",
    "print(stats.ttest_rel(rvs1, rvs2))\n",
    "# 配对样本T检验可视为单样本T检验的扩展，检验的对象由一群来自正态分布独立样本更改为二群配对样本观测值之差。\n",
    "# 它常用于比较同一受试对象处理的前后差异，或者按照某一条件进行两两配对分别给与不同处理的受试对象之间是否存在差异。\n",
    "# 运行结果：Ttest_relResult(statistic=0.24101764965300979, pvalue=0.80964043445811551)"
   ]
  },
  {
   "cell_type": "code",
   "execution_count": 4,
   "metadata": {},
   "outputs": [
    {
     "name": "stdout",
     "output_type": "stream",
     "text": [
      "Ttest_1sampResult(statistic=-1.3727623683406578, pvalue=0.17292795979596837)\n"
     ]
    }
   ],
   "source": [
    "from scipy import stats\n",
    "import numpy as np\n",
    "\n",
    "np.random.seed(12)\n",
    "rvs = stats.norm.rvs(loc=5, scale=2, size=100)\n",
    "# rvs2=list(rvs)\n",
    "# data=pd.DataFrame(rvs2,columns=['数字'])\n",
    "# data.to_excel('data.xlsx')\n",
    "# scipy.stats.ttest_1samp(a, popmean, axis=0, nan_policy='propagate', alternative='two-sided')\n",
    "# 单样本T检验，用于检验数据是否来自一致均值的总体，T检验主要是以均值为核心的检验\n",
    "# 这是对独立观测样本 a 的期望值(均值)等于给定总体均值 popmean 的零假设的检验。\n",
    "print(stats.ttest_1samp(rvs, 5))\n",
    "#TtestResult(statistic=-1.3727623683406578, pvalue=0.17292795979596837, df=99)"
   ]
  },
  {
   "cell_type": "code",
   "execution_count": 5,
   "metadata": {},
   "outputs": [
    {
     "name": "stdout",
     "output_type": "stream",
     "text": [
      "LeveneResult(statistic=1.69399631630608, pvalue=0.19337536323599344)\n"
     ]
    }
   ],
   "source": [
    "from scipy import stats\n",
    "import numpy as np\n",
    "\n",
    "np.random.seed(12345678)\n",
    "rvs1 = stats.norm.rvs(loc=5, scale=10, size=500)\n",
    "rvs2 = stats.norm.rvs(loc=25, scale=9, size=500)\n",
    "# stats.norm.rvs(loc=0,scale=1,size=n)，生成n个服从正态分布的随机数\n",
    "# 其主要用法为(参数loc默认为零，scale默认为1，不用管它们，下从stats.norm.pdf略)\n",
    "# stats.norm.pdf(x)，计算概率密度函数\n",
    "# stats.norm.cdf(x)，计算累计密度函数\n",
    "# stats.norm.ppf(q)，计算z值\n",
    "# stats.norm.var()/stats.norm.std()/stats.norm.mean()/stats.norm.median()，计算分布的方差/标准差/均值/中位数\n",
    "#差齐性检验用以检验两组或多组数据与其均值偏离程度是否存在差异，也是很多检验和算法的先决条件\n",
    "print(stats.levene(rvs1, rvs2))"
   ]
  },
  {
   "cell_type": "code",
   "execution_count": 6,
   "metadata": {},
   "outputs": [
    {
     "name": "stdout",
     "output_type": "stream",
     "text": [
      "KstestResult(statistic=0.0315638260778347, pvalue=0.9167271933349118)\n"
     ]
    }
   ],
   "source": [
    "from scipy import stats\n",
    "import numpy as np\n",
    "\n",
    "np.random.seed(12345678)\n",
    "x = stats.norm.rvs(loc=0, scale=1, size=300)\n",
    "#科尔莫戈罗夫检验(Kolmogorov-Smirnov test)，检验样本数据是否服从某一分布，仅适用于连续分布的检验\n",
    "print(stats.kstest(x, 'norm'))"
   ]
  },
  {
   "cell_type": "code",
   "execution_count": 7,
   "metadata": {},
   "outputs": [
    {
     "name": "stdout",
     "output_type": "stream",
     "text": [
      "t = 4.233779280832134\n",
      "p = 0.000499321142030329\n",
      "t = 4.233779280832134\n",
      "p = 0.0009986422840608002\n"
     ]
    }
   ],
   "source": [
    "## Import the packages\n",
    "import numpy as np\n",
    "from scipy import stats\n",
    "\n",
    "## Define 2 random distributions\n",
    "#Sample Size\n",
    "N = 10\n",
    "#Gaussian distributed data with mean = 2 and var = 1\n",
    "a = np.random.randn(N) + 2\n",
    "#Gaussian distributed data with with mean = 0 and var = 1\n",
    "b = np.random.randn(N)\n",
    "\n",
    "## Calculate the Standard Deviation\n",
    "#Calculate the variance to get the standard deviation\n",
    "\n",
    "#For unbiased max likelihood estimate we have to divide the var by N-1, and therefore the parameter ddof = 1\n",
    "var_a = a.var(ddof=1)\n",
    "var_b = b.var(ddof=1)\n",
    "\n",
    "#std deviation\n",
    "s = np.sqrt((var_a + var_b) / 2)\n",
    "\n",
    "## Calculate the t-statistics\n",
    "t = (a.mean() - b.mean()) / (s * np.sqrt(2 / N))\n",
    "\n",
    "## Compare with the critical t-value\n",
    "#Degrees of freedom\n",
    "df = 2 * N - 2\n",
    "\n",
    "#p-value after comparison with the t\n",
    "p = 1 - stats.t.cdf(t, df=df)\n",
    "\n",
    "print(\"t = \" + str(t))\n",
    "print(\"p = \" + str(2 * p))\n",
    "#Note that we multiply the p value by 2 because its a twp tail t-test\n",
    "### You can see that after comparing the t statistic with the critical t value (computed internally) we get a good p value of 0.0005 and thus we reject the null hypothesis and thus it proves that the mean of the two distributions are different and statistically significant.\n",
    "\n",
    "## Cross Checking with the internal scipy function\n",
    "t2, p2 = stats.ttest_ind(a, b)\n",
    "print(\"t = \" + str(t2))\n",
    "print(\"p = \" + str(2 * p2))\n",
    "# t分数是两个组之间的差值与组内差的比值。\n",
    "# t分数越大，组间的差异越大。\n",
    "# t分数越小，组间的相似度就越大。t分数为3代表这些组是彼此之间的三倍。\n",
    "# t检验,比较两个平均值（均值），然后告诉你它们彼此是否有差异。并且，t检验还会告诉你这个差异有没有意义，换句话说，它让你知道这些差异是否可能是偶然发生的。"
   ]
  },
  {
   "cell_type": "code",
   "execution_count": 8,
   "metadata": {},
   "outputs": [
    {
     "name": "stdout",
     "output_type": "stream",
     "text": [
      "样本均值： 3.7580000000000027\n",
      "样本标准差： 1.7652982332594667\n",
      "t统计量： 1.7899761687043467\n",
      "P-Value值： 0.07548856490783468\n"
     ]
    }
   ],
   "source": [
    "import pandas as pd\n",
    "from sklearn.datasets import load_iris\n",
    "import numpy as np\n",
    "from scipy import stats\n",
    "\n",
    "iris = load_iris()\n",
    "# print(iris)\n",
    "data = pd.DataFrame(iris.data, columns=['sepal_length', 'sepal_width', 'petal_length', 'petal_width'])\n",
    "# data.to_csv('iris.csv')\n",
    "#计算样本均值、标准差\n",
    "mean = data['petal_length'].mean()\n",
    "std = data['petal_length'].std()\n",
    "print('样本均值：', mean)\n",
    "print('样本标准差：', std)\n",
    "#计算t统计量\n",
    "t = (mean - 3.5) / (std / np.sqrt(len(data['petal_length'])))\n",
    "print('t统计量：', t)\n",
    "#计算p值\n",
    "#df：自由度，即变量可以自由取值的个数\n",
    "p = 2 * stats.t.sf(abs(t), df=len(data['petal_length']) - 1)\n",
    "print('P-Value值：', p)"
   ]
  },
  {
   "cell_type": "code",
   "execution_count": 9,
   "metadata": {},
   "outputs": [
    {
     "name": "stdout",
     "output_type": "stream",
     "text": [
      "s1:  4.361290322580645\n",
      "s2:  4.159139784946236\n",
      "F值:  1.0486039296794212\n",
      "P值:  0.4487226222053864\n"
     ]
    }
   ],
   "source": [
    "import numpy as np\n",
    "from scipy.stats import f\n",
    "\n",
    "# 大数定律：随着样本量的增大，样本均值逐渐趋于总体均值。\n",
    "# 中心极限定理：样本可能不是正态分布，但是样本均值都是呈正态分布。\n",
    "# F分布\n",
    "# 分析两个正态分布方差比值的分布情况，F分布是由两个独立的卡方分布的比值所得到的分布\n",
    "# 检验两个样本方差是否相等。常被用于统计分析、财务分析、市场分析、医学研究等领域\n",
    "# /* 案例\n",
    "# 假设有两个班级，每个班级各有30名学生，两个班级的数学成绩分别为：\n",
    "# 班级1：{70, 71, 68, 75, 72, 69, 74, 73, 71, 70, 75, 72, 69, 68, 72, 70, 71, 73, 72, 74, 73, 72, 70, 69, 71, 73, 75, 74, 73, 72, 75}\n",
    "# 班级2：{71, 72, 69, 73, 74, 70, 68, 72, 75, 76, 74, 73, 72, 75, 73, 70, 69, 71, 70, 72, 73, 74, 73, 75, 72, 71, 70, 74, 73, 75, 73}\n",
    "# 现在需要检验这两个班级的数学成绩方差是否相等。\n",
    "class1 = [70, 71, 68, 75, 72, 69, 74, 73, 71, 70, 75, 72, 69, 68, 72, 70, 71, 73, 72, 74, 73, 72, 70, 69, 71, 73, 75,\n",
    "          74, 73, 72, 75]\n",
    "class2 = [71, 72, 69, 73, 74, 70, 68, 72, 75, 76, 74, 73, 72, 75, 73, 70, 69, 71, 70, 72, 73, 74, 73, 75, 72, 71, 70,\n",
    "          74, 73, 75, 73]\n",
    "\n",
    "s1 = np.var(class1, ddof=1)\n",
    "s2 = np.var(class2, ddof=1)\n",
    "\n",
    "print(\"s1: \", s1)\n",
    "print(\"s2: \", s2)\n",
    "\n",
    "F = s1 / s2\n",
    "print(\"F值: \", F)\n",
    "\n",
    "df1 = len(class1) - 1\n",
    "df2 = len(class2) - 1\n",
    "p_value = f.sf(F, df1, df2)\n",
    "\n",
    "print(\"P值: \", p_value)\n",
    "\n",
    "# s1:  4.361290322580645\n",
    "# s2:  4.159139784946236\n",
    "# F值:  1.0486039296794212\n",
    "# P值:  0.44872262220538617"
   ]
  },
  {
   "cell_type": "code",
   "execution_count": 10,
   "metadata": {},
   "outputs": [
    {
     "name": "stdout",
     "output_type": "stream",
     "text": [
      "503.75 6.202150164795002\n",
      "置信区间为： (500.44510746243924, 507.05489253756076)\n"
     ]
    }
   ],
   "source": [
    "from numpy import array, sqrt\n",
    "from scipy.stats import t\n",
    "\n",
    "a = array([506, 508, 499, 503, 504, 510, 497, 512, 514, 505, 493, 496, 506, 502, 509, 496])\n",
    "# numpy.std() 求标准差的时候默认是除以 n 的，即是有偏的，np.std无偏样本标准差方式为 ddof = 1；\n",
    "# pandas.std() 默认是除以n-1 的，即是无偏的，如果想和numpy.std() 一样有偏，需要加上参数ddof=0 ，即pandas.std(ddof=0)\n",
    "alpha = 0.05\n",
    "n = len(a)\n",
    "mu = a.mean()\n",
    "s = a.std(ddof=1)  #计算均值和标准差\n",
    "print(mu, s)\n",
    "val = (mu - s / sqrt(n) * t.ppf(1 - alpha / 2, n - 1), mu + s / sqrt(n) * t.ppf(1 - alpha / 2, n - 1))\n",
    "print(\"置信区间为：\", val)"
   ]
  },
  {
   "cell_type": "code",
   "execution_count": 11,
   "metadata": {},
   "outputs": [
    {
     "data": {
      "text/plain": [
       "(98.16061490308631, 101.87938509691368)"
      ]
     },
     "execution_count": 11,
     "metadata": {},
     "output_type": "execute_result"
    }
   ],
   "source": [
    "\n",
    "import numpy as np\n",
    "\n",
    "\n",
    "def confidence_interval_u(data, sigma=-1, alpha=0.05, side_both=True):\n",
    "    xb = np.mean(data)\n",
    "    s = np.std(data, ddof=1)\n",
    "    if sigma > 0:  # sigma已知，枢轴量服从标准正态分布\n",
    "        Z = stats.norm(loc=0, scale=1.)\n",
    "        if side_both:  # 求双侧置信区间\n",
    "            tmp = sigma / np.sqrt(len(data)) * Z.ppf(1 - alpha / 2)\n",
    "            return (xb - tmp, xb + tmp)\n",
    "        else:  # 单侧置信下限或单侧置信上限\n",
    "            tmp = sigma / np.sqrt(len(data)) * Z.ppf(1 - alpha)\n",
    "            return {'bottom_limit': xb - tmp, 'top_limit': xb + tmp}\n",
    "    else:  # sigma未知，枢轴量服从自由度为n-1的t分布\n",
    "        T = stats.t(df=len(data) - 1)\n",
    "        if side_both:\n",
    "            tmp = s / np.sqrt(len(data)) * T.ppf(1 - alpha / 2)\n",
    "            return (xb - tmp, xb + tmp)\n",
    "        else:\n",
    "            tmp = s / np.sqrt(len(data)) * T.ppf(1 - alpha)\n",
    "            return {'bottom_limit': xb - tmp, 'top_limit': xb + tmp}\n",
    "\n",
    "\n",
    "data = np.array([101.3, 96.6, 100.4, 98.8, 94.6, 103.1, 102.3, 97.5, 105.4, 100.2])\n",
    "confidence_interval_u(data, 3)"
   ]
  },
  {
   "cell_type": "code",
   "execution_count": 12,
   "metadata": {},
   "outputs": [
    {
     "name": "stdout",
     "output_type": "stream",
     "text": [
      "置信区间为: (10.395704943723088, 15.60429505627691)\n"
     ]
    }
   ],
   "source": [
    "import numpy as np\n",
    "import scipy.stats as st\n",
    "\n",
    "# data of goals scored by 20 footballers in a calendar year\n",
    "fb_data = [10, 11, 10, 14, 16, 24, 10, 6, 8, 10,\n",
    "           11, 27, 28, 21, 13, 10, 6, 7, 8, 10]\n",
    "# 置信水平create 90% confidence interval\n",
    "confidence_level = 0.90\n",
    "# t.interval() 计算置信区间 （n<30）\n",
    "print(\"置信区间为:\", st.t.interval(confidence_level, df=len(fb_data) - 1,\n",
    "                                   loc=np.mean(fb_data),\n",
    "                                   scale=st.sem(fb_data)))\n",
    "# 标准误用来衡量抽样误差，是统计推断可靠性的指标。\n",
    "# scipy.stats.sem(a, axis=0, ddof=1, nan_policy='propagate')\n",
    "# axis:默认为 0。如果没有，则计算整个数组a\n",
    "# ddof:Delta 自由度。"
   ]
  },
  {
   "cell_type": "code",
   "execution_count": 13,
   "metadata": {},
   "outputs": [
    {
     "name": "stdout",
     "output_type": "stream",
     "text": [
      "0.004345983897578176\n",
      "1.0414206995887423\n"
     ]
    },
    {
     "data": {
      "image/png": "[encoded data removed]",
      "text/plain": [
       "<Figure size 640x480 with 1 Axes>"
      ]
     },
     "metadata": {},
     "output_type": "display_data"
    }
   ],
   "source": [
    "import numpy as np\n",
    "from scipy.stats import norm\n",
    "import matplotlib.pyplot as plt\n",
    "\n",
    "data = norm.rvs(loc=0, scale=1, size=400)\n",
    "mu1 = np.mean(data)\n",
    "std1 = np.std(data)\n",
    "print(mu1)\n",
    "print(std1)\n",
    "\n",
    "mu, std = norm.fit(data)  #fit()函数来拟合数据\n",
    "plt.hist(data, bins=25, density=True, alpha=0.6, color='g')\n",
    "xmin, xmax = plt.xlim()  #xlim获取当前x轴范围设定\n",
    "x = np.linspace(xmin, xmax, 100)\n",
    "p = norm.pdf(x, mu, std)\n",
    "q = norm.pdf(x, mu1, std1)\n",
    "plt.plot(x, p, 'k', linewidth=2)  #绘制概率密度函数\n",
    "plt.plot(x, q, 'r', linewidth=1)\n",
    "title = \"Fit results: mu = %.5f,  std = %.5f\" % (mu, std)\n",
    "plt.title(title)\n",
    "plt.show()\n",
    "# plt.plot(x,y,format_string,**kwargs)\n",
    "# x表示二维坐标中X轴数据（列表或数据，可选）\n",
    "# y表示二维坐标中Y轴数据（列表或数据）\n",
    "# format_string表示控制曲线的格式字符串（线宽线型颜色等）可选\n",
    "# **kwargs表示第二组或更多（x,y,format_string）"
   ]
  },
  {
   "cell_type": "code",
   "execution_count": 14,
   "metadata": {},
   "outputs": [
    {
     "data": {
      "text/plain": [
       "KstestResult(statistic=0.1590180704824098, pvalue=0.3056480127078781)"
      ]
     },
     "execution_count": 14,
     "metadata": {},
     "output_type": "execute_result"
    }
   ],
   "source": [
    "from scipy import stats\n",
    "import pandas as pd\n",
    "\n",
    "# scipy包是一个高级的科学计算库，它和Numpy联系很密切，Scipy一般都是操控Numpy数组来进行科学计算\n",
    "\n",
    "data = [87, 77, 92, 68, 80, 78, 84, 77, 81, 80, 80, 77, 92, 86,\n",
    "        76, 80, 81, 75, 77, 72, 81, 72, 84, 86, 80, 68, 77, 87,\n",
    "        76, 77, 78, 92, 75, 80, 78]\n",
    "# 样本数据，35位健康男性在未进食之前的血糖浓度\n",
    "\n",
    "df = pd.DataFrame(data, columns=['value'])\n",
    "u = df['value'].mean()  # 计算均值\n",
    "std = df['value'].std()  # 计算标准差\n",
    "stats.kstest(df['value'], 'norm', (u, std))\n",
    "# .kstest方法：KS检验，参数分别是：待检验的数据，检验方法（这里设置成norm正态分布），均值与标准差\n",
    "# 结果返回两个值：statistic → D值，pvalue → P值\n",
    "# p值大于0.05，为正态分布"
   ]
  },
  {
   "cell_type": "code",
   "execution_count": 15,
   "metadata": {},
   "outputs": [
    {
     "name": "stdout",
     "output_type": "stream",
     "text": [
      "0.9547253251075745 0.0017218869179487228\n",
      "0.7870260992168561 1.9947630078489814e-66\n",
      "33.62988681076687 4.9815313241000405e-08\n",
      "1.0837094127385285 [0.555 0.632 0.759 0.885 1.053] [15.  10.   5.   2.5  1. ]\n"
     ]
    }
   ],
   "source": [
    "import numpy as np\n",
    "from scipy import stats\n",
    "\n",
    "#函数返回间隔类均匀分布的数值序列\n",
    "b = np.linspace(0, 10, 100)\n",
    "\n",
    "# Shapiro-Wilk test\n",
    "#scipy.stats.shapiro适用于小样本数据，只能检查正态分布。\n",
    "s, p = stats.shapiro(b)\n",
    "print(s, p)\n",
    "\n",
    "# kstest\n",
    "#statistic,p=scipy.stats.kstest(rvs, cdf, args=(), N=20, alternative='two-sided', mode='approx')\n",
    "# scipy.stats.kstest是一种K-S检验。它不局限于正态检验，可以检验多种分布。\n",
    "s, p = stats.kstest(b, 'norm')\n",
    "print(s, p)\n",
    "\n",
    "# normaltest\n",
    "# statistic,p=scipy.stats.normaltest(a, axis=0, nan_policy='propagate')\n",
    "# 输出结果中第一个为统计量，第二个为P值（注：p值大于显著性水平0.05，认为样本数据符合正态分布）\n",
    "s, p = stats.normaltest(b)\n",
    "print(s, p)\n",
    "\n",
    "# Anderson-Darling test\n",
    "# 不局限于正态检验，可以检验多种分布（正态分布、指数分布、logistic 或者 Gumbel等分布）。\n",
    "# statistic,critical_values,significance_level=scipy.stats.anderson(x, dist='norm')\n",
    "# 返回值中，第一个表示统计值，第二个表示评价值，第三个是显著性水平；评价值和显著性水平对应，不同分布显著性水平不同。\n",
    "s, c, p = stats.anderson(b, dist='norm')\n",
    "print(s, c, p)\n",
    "\n",
    "# 0.9547253251075745 0.0017218869179487228\n",
    "# 0.7870260992168561 1.9947630078489827e-66\n",
    "# 33.62988681076687 4.9815313241000405e-08\n",
    "# 1.0837094127385427 [0.555 0.632 0.759 0.885 1.053] [15.  10.   5.   2.5  1. ]"
   ]
  }
 ],
 "metadata": {
  "kernelspec": {
   "display_name": "base",
   "language": "python",
   "name": "python3"
  },
  "language_info": {
   "codemirror_mode": {
    "name": "ipython",
    "version": 3
   },
   "file_extension": ".py",
   "mimetype": "text/x-python",
   "name": "python",
   "nbconvert_exporter": "python",
   "pygments_lexer": "ipython3",
   "version": "3.7.6"
  }
 },
 "nbformat": 4,
 "nbformat_minor": 2
}
