{
 "cells": [
  {
   "cell_type": "code",
   "execution_count": 17,
   "metadata": {},
   "outputs": [
    {
     "name": "stdout",
     "output_type": "stream",
     "text": [
      "a\n",
      "b\n",
      "c\n",
      "d\n",
      "e\n",
      "f\n"
     ]
    }
   ],
   "source": [
    "graph = {\n",
    "        'a' : ['b', 'c'],\n",
    "        'b' : ['a', 'c', 'd'],\n",
    "        'c' : ['a','b', 'd','e'],\n",
    "        'd' : ['b' , 'c', 'e', 'f'],\n",
    "        'e' : ['c', 'd'],\n",
    "        'f' : ['d']\n",
    "        }\n",
    "\n",
    "\n",
    "def BFS(graph, s):\n",
    "    queue = []\n",
    "    queue.append(s)\n",
    "    seen = set()\n",
    "    seen.add(s)\n",
    "    while len(queue) > 0:\n",
    "        vertex = queue.pop(0)\n",
    "        nodes = graph[vertex]\n",
    "        for node in nodes:\n",
    "            if node not in seen:\n",
    "                queue.append(node)\n",
    "                seen.add(node)\n",
    "        print(vertex)\n",
    "        \n",
    "BFS(graph, 'a')"
   ]
  },
  {
   "cell_type": "code",
   "execution_count": 21,
   "metadata": {},
   "outputs": [
    {
     "name": "stdout",
     "output_type": "stream",
     "text": [
      "a b c d e f "
     ]
    }
   ],
   "source": [
    "def bfs_recursive(graph, root):  \n",
    "    nodes=list(graph.keys())\n",
    "    visited = set()  \n",
    "    levels = [[root]]  # 初始化层级列表，第一层只有一个根节点  \n",
    "    next_level=[]\n",
    "    def process_level(level):  \n",
    "        if not level:  \n",
    "            return  # 当前层级为空，返回上一层  \n",
    "        for node in level:  \n",
    "            if node not in visited:  \n",
    "                visited.add(node)  \n",
    "                print(node, end=\" \")  \n",
    "                # 将未访问的邻居加入下一层级的列表  \n",
    "                next_level.extend(neighbour for neighbour in graph[node] if neighbour not in visited)  \n",
    "  \n",
    "        # 如果还有下一层级，递归处理  \n",
    "        if next_level:  \n",
    "            if set(nodes)==visited:\n",
    "                return\n",
    "            levels.append(next_level)\n",
    "            process_level(next_level)  \n",
    "    # 递归处理每一层  \n",
    "    while levels:  \n",
    "        process_level(levels.pop(0))  \n",
    "\n",
    "  \n",
    "bfs_recursive(graph, 'a')  # 输出: A B C D E F"
   ]
  },
  {
   "cell_type": "code",
   "execution_count": 16,
   "metadata": {},
   "outputs": [
    {
     "name": "stdout",
     "output_type": "stream",
     "text": [
      "A B C D E F "
     ]
    }
   ],
   "source": [
    "def bfs_recursive(graph, root):  \n",
    "    visited = set()  \n",
    "    levels = [[root]]  # 初始化层级列表，第一层只有一个根节点  \n",
    "      \n",
    "    def process_level(level):  \n",
    "        if not level:  \n",
    "            return  # 当前层级为空，返回上一层  \n",
    "  \n",
    "        next_level = []  # 下一层级的节点列表  \n",
    "  \n",
    "        for node in level:  \n",
    "            if node not in visited:  \n",
    "                visited.add(node)  \n",
    "                print(node, end=\" \")  \n",
    "                # 将未访问的邻居加入下一层级的列表  \n",
    "                next_level.extend(neighbour for neighbour in graph[node] if neighbour not in visited)  \n",
    "  \n",
    "        # 如果还有下一层级，递归处理  \n",
    "        if next_level:  \n",
    "            levels.append(next_level)  # 将下一层级添加到列表中  \n",
    "            process_level(next_level)  \n",
    "  \n",
    "    # 递归处理每一层  \n",
    "    while levels:  \n",
    "        process_level(levels.pop(0))  \n",
    "  \n",
    "# 示例图  \n",
    "graph = {  \n",
    "    'A': ['B', 'C'],  \n",
    "    'B': ['D', 'E'],  \n",
    "    'C': ['F'],  \n",
    "    'D': [],  \n",
    "    'E': ['F'],  \n",
    "    'F': []  \n",
    "}  \n",
    "  \n",
    "bfs_recursive(graph, 'A')  # 输出: A B C D E F"
   ]
  },
  {
   "cell_type": "code",
   "execution_count": 13,
   "metadata": {},
   "outputs": [
    {
     "name": "stdout",
     "output_type": "stream",
     "text": [
      "a\n",
      "c\n",
      "e\n",
      "d\n",
      "f\n",
      "b\n"
     ]
    }
   ],
   "source": [
    "def DFS(graph, s):\n",
    "    stack = []\n",
    "    stack.append(s)\n",
    "    seen = set()\n",
    "    seen.add(s)\n",
    "    while len(stack) > 0:\n",
    "        vertex = stack.pop()\n",
    "        nodes  = graph[vertex]\n",
    "        for node in nodes:\n",
    "            if node not in seen:\n",
    "                stack.append(node)\n",
    "                seen.add(node)\n",
    "        print(vertex)\n",
    "DFS(graph, 'a')"
   ]
  },
  {
   "cell_type": "code",
   "execution_count": 14,
   "metadata": {},
   "outputs": [
    {
     "name": "stdout",
     "output_type": "stream",
     "text": [
      "['a', 'b', 'c', 'd', 'e', 'f']\n"
     ]
    }
   ],
   "source": [
    "def DFS1(graph, s, stack=[]):\n",
    "    stack.append(s)\n",
    "    for i in graph[s]:\n",
    "        if i not in stack:\n",
    "            DFS1(graph, i, stack)\n",
    "    return stack\n",
    "print(DFS1(graph, 'a'))"
   ]
  },
  {
   "cell_type": "code",
   "execution_count": 25,
   "metadata": {},
   "outputs": [
    {
     "data": {
      "text/plain": [
       "[(1, 2), (2, 4), (4, 3), (3, 7), (4, 5), (5, 6)]"
      ]
     },
     "execution_count": 25,
     "metadata": {},
     "output_type": "execute_result"
    }
   ],
   "source": [
    "import networkx as nx  # 导入 NetworkX 工具包\n",
    "\n",
    "G = nx.Graph()  # 创建：空的 无向图\n",
    "G.add_weighted_edges_from([(1,2,50),(1,3,60),(2,4,65),(2,5,40),(3,4,52),\n",
    "                (3,7,45),(4,5,50),(4,6,30),(4,7,42),(5,6,70)])  # 向图中添加多条赋权边: (node1,node2,weight)\n",
    "list(nx.dfs_edges(G,1))"
   ]
  },
  {
   "cell_type": "code",
   "execution_count": 26,
   "metadata": {},
   "outputs": [
    {
     "data": {
      "text/plain": [
       "[(1, 2), (1, 3), (2, 4), (2, 5), (3, 7), (4, 6)]"
      ]
     },
     "execution_count": 26,
     "metadata": {},
     "output_type": "execute_result"
    }
   ],
   "source": [
    "list(nx.bfs_edges(G,1))"
   ]
  },
  {
   "cell_type": "code",
   "execution_count": 10,
   "metadata": {},
   "outputs": [
    {
     "name": "stdout",
     "output_type": "stream",
     "text": [
      "i A M [('A', 'E')]\n",
      "v E M [('A', 'E')]\n",
      "i B M [('A', 'E'), ('B', 'F')]\n",
      "v E M [('B', 'F')]\n",
      "v F M [('B', 'F')]\n",
      "i C M [('B', 'F'), ('A', 'G'), ('C', 'E')]\n",
      "v E M [('B', 'F'), ('A', 'G'), ('C', 'E')]\n",
      "v F M [('B', 'F'), ('A', 'G'), ('C', 'E')]\n",
      "v E M [('B', 'F')]\n",
      "v F M [('B', 'F')]\n",
      "v G M [('B', 'F')]\n",
      "i D M [('B', 'F'), ('C', 'H'), ('A', 'E'), ('D', 'G')]\n",
      "res 4\n",
      "cx {'A': 'E', 'B': 'F', 'C': 'H', 'D': 'G'}\n",
      "cy {'E': 'A', 'F': 'B', 'G': 'D', 'H': 'C'}\n",
      "visited {'E': 1, 'F': 0, 'G': 1, 'H': 1}\n"
     ]
    }
   ],
   "source": [
    "class DFS_hungary():\n",
    "    # 参数初始化\n",
    "    def __init__(self, set_A, set_B, edge, cx, cy, visited):\n",
    "        self.set_A, self.set_B = set_A, set_B  # 顶点集合\n",
    "        self.edge = edge  # 顶点是否连边\n",
    "        self.cx, self.cy = cx, cy  # 顶点是否匹配\n",
    "        self.visited = visited  # 顶点是否被访问\n",
    "        self.M = []  # 匹配\n",
    "        self.res = 0  # 匹配数\n",
    "    # 遍历顶点A集合，得到最大匹配\n",
    "    def max_match(self):\n",
    "        for i in self.set_A:\n",
    "            if self.cx[i] == -1:  # 未匹配\n",
    "                for key in self.set_B:  # 将visited置0表示未访问过\n",
    "                    self.visited[key] = 0\n",
    "                self.res += self.path(i)\n",
    "                print('i', i, 'M',self.M)\n",
    "    # 增广路置换获得更大的匹配\n",
    "    def path(self, u):\n",
    "        for v in self.set_B:\n",
    "            if self.edge[u][v] and (not self.visited[v]):  # 如果可连且未被访问过\n",
    "                self.visited[v] = 1 # 访问该顶点\n",
    "                if self.cy[v] == -1:  # 如果未匹配， 则建立匹配\n",
    "                    self.cx[u], self.cy[v] = v, u\n",
    "                    self.M.append((u, v))\n",
    "                    return 1\n",
    "                else:\n",
    "                    self.M.remove((self.cy[v], v))  # 如果匹配则删除之前的匹配\n",
    "                    if self.path(self.cy[v]):  # 递归调用\n",
    "                        self.cx[u], self.cy[v] = v, u\n",
    "                        self.M.append((u, v))\n",
    "                        return 1\n",
    "            print('v', v, 'M', self.M)\n",
    "        return 0\n",
    "if __name__ == '__main__':\n",
    "    set_A, set_B = ['A', 'B', 'C', 'D'], ['E', 'F', 'G', 'H']\n",
    "    edge = {'A': {'E': 1, 'F': 0, 'G': 1, 'H': 0}, 'B': {'E': 0, 'F': 1, 'G': 0, 'H': 1},\n",
    "            'C': {'E': 1, 'F': 0, 'G': 0, 'H': 1}, 'D': {'E': 0, 'F': 0, 'G': 1, 'H': 0}}  # 1表示可以匹配，0表示不能匹配\n",
    "    cx, cy = {'A': -1, 'B': -1, 'C': -1, 'D': -1}, {'E': -1, 'F': -1, 'G': -1, 'H': -1}\n",
    "    visited = {'E': 0, 'F': 0, 'G': 0, 'H': 0}\n",
    "    dh = DFS_hungary(set_A, set_B, edge, cx, cy, visited)\n",
    "    dh.max_match()\n",
    "    print('res', dh.res)\n",
    "    print('cx', cx)\n",
    "    print('cy', cy)\n",
    "    print('visited', visited)"
   ]
  },
  {
   "cell_type": "code",
   "execution_count": 11,
   "metadata": {},
   "outputs": [
    {
     "name": "stdout",
     "output_type": "stream",
     "text": [
      "{0: 0, 1: 3, 2: 2, 3: 1, 4: 4}\n"
     ]
    }
   ],
   "source": [
    "\"\"\"\n",
    "KM算法\n",
    "复杂度O(E*V*V)\n",
    "\"\"\"\n",
    "a = -float('inf')\n",
    "# a = 5\n",
    "graph = [\n",
    "    [4, 2, 6, a, a],\n",
    "    [2, 6, a, 6, 3],\n",
    "    [a, 3, 6, a, a],\n",
    "    [a, 8, 2, a, a],\n",
    "    [a, a, a, 3, 1]\n",
    "]\n",
    "label_left, label_right = [max(g) for g in graph], [0 for _ in graph]\n",
    "S, T = {}, {}\n",
    "\n",
    "visited_left = [False for _ in graph]\n",
    "visited_right = [False for _ in graph]\n",
    "slack_right = [float('inf') for _ in graph]\n",
    "\n",
    "\n",
    "def find_path(i, visited_left, visited_right, slack_right):\n",
    "    visited_left[i] = True\n",
    "    for j, match_weight in enumerate(graph[i]):\n",
    "        if visited_right[j]:\n",
    "            continue\n",
    "        gap = label_left[i] + label_right[j] - match_weight\n",
    "        if gap == 0:\n",
    "            visited_right[j] = True\n",
    "            if j not in T or find_path(T[j], visited_left, visited_right, slack_right):\n",
    "                T[j] = i\n",
    "                S[i] = j\n",
    "                return True\n",
    "\n",
    "        else:\n",
    "            slack_right[j] = min(slack_right[j], gap)\n",
    "    return False\n",
    "\n",
    "def KM():\n",
    "    m = len(graph)\n",
    "    for i in range(m):\n",
    "        # 重置辅助变量\n",
    "        slack_right = [float('inf') for _ in range(m)]\n",
    "        while True:\n",
    "            visited_left = [False for _ in graph]\n",
    "            visited_right = [False for _ in graph]\n",
    "            if find_path(i,visited_left,visited_right, slack_right):\n",
    "                break\n",
    "            d = float('inf')\n",
    "            for j, slack in enumerate(slack_right):\n",
    "                if not visited_right[j] and slack < d:\n",
    "                    d = slack\n",
    "            for k in range(m):\n",
    "                if visited_left[k]:\n",
    "                    label_left[k] -= d\n",
    "                if visited_right[k]:\n",
    "                    label_right[k] += d\n",
    "    return S, T\n",
    "\n",
    "KM()\n",
    "print(S)\n"
   ]
  },
  {
   "cell_type": "code",
   "execution_count": 17,
   "metadata": {},
   "outputs": [
    {
     "name": "stdout",
     "output_type": "stream",
     "text": [
      "[(5, 'D', 'A'), (6, 'D', 'F'), (7, 'A', 'B'), (7, 'B', 'E'), (5, 'E', 'C'), (9, 'E', 'G')]\n"
     ]
    }
   ],
   "source": [
    "from heapq import *\n",
    "def prim(adjacent_dict,start='D'):\n",
    "    minu_tree = []  # 存储最小生成树结果\n",
    "    visited = [start] # 存储访问过的顶点，注意指定起始点\n",
    "    adjacent_vertexs_edges = adjacent_dict[start]\n",
    "    heapify(adjacent_vertexs_edges) # 转化为小顶堆，便于找到权重最小的边\n",
    "    while adjacent_vertexs_edges:\n",
    "        weight, v1, v2 = heappop(adjacent_vertexs_edges) # 权重最小的边，并同时从堆中删除。 \n",
    "        if v2 not in visited:\n",
    "            visited.append(v2)  # 在used中有第一选定的点'A'，上面得到了距离A点最近的点'D',举例是5。将'd'追加到used中\n",
    "            minu_tree.append((weight, v1, v2))\n",
    "            # 再找与d相邻的点，如果没有在heap中，则应用heappush压入堆内，以加入排序行列\n",
    "            for next_edge in adjacent_dict[v2]: # 找到v2相邻的边\n",
    "                if next_edge[2] not in visited: # 如果v2还未被访问过，就加入堆中\n",
    "                    heappush(adjacent_vertexs_edges, next_edge)\n",
    "    return minu_tree\n",
    "adjacent_dict={'A': [(7, 'A', 'B'), (5, 'A', 'D')], \n",
    "     'C': [(8, 'C', 'B'), (5, 'C', 'E')], \n",
    "     'B': [(7, 'B', 'A'), (8, 'B', 'C'), (9, 'B', 'D'), (7, 'B', 'E')], \n",
    "     'E': [(7, 'E', 'B'), (5, 'E', 'C'), (15, 'E', 'D'), (8, 'E', 'F'), (9, 'E', 'G')], \n",
    "     'D': [(5, 'D', 'A'), (9, 'D', 'B'), (15, 'D', 'E'), (6, 'D', 'F')], \n",
    "     'G': [(9, 'G', 'E'), (11, 'G', 'F')], \n",
    "     'F': [(6, 'F', 'D'), (8, 'F', 'E'), (11, 'F', 'G')]}\n",
    "print(prim(adjacent_dict,start='D'))\n"
   ]
  },
  {
   "cell_type": "code",
   "execution_count": 22,
   "metadata": {},
   "outputs": [
    {
     "name": "stdout",
     "output_type": "stream",
     "text": [
      "Minimum Spanning Tree: {'A': [(1, 'B')], 'B': [(1, 'A'), (2, 'C')], 'C': [(2, 'B'), (1, 'D')], 'D': [(1, 'C')]}\n"
     ]
    }
   ],
   "source": [
    "import heapq  \n",
    "  \n",
    "def prim(graph, start):  \n",
    "    mst = {start: []}  # 最小生成树，初始只包含起始节点  \n",
    "    visited = {start}  # 已访问的节点集合  \n",
    "    edges = [(cost, start, to) for to, cost in graph[start].items()]  # 起始节点的边加入堆中  \n",
    "    heapq.heapify(edges)  # 初始化堆  \n",
    "  \n",
    "    while edges:  \n",
    "        cost, frm, to = heapq.heappop(edges)  # 弹出权重最小的边  \n",
    "        if to not in visited:  \n",
    "            visited.add(to)  # 标记节点为已访问  \n",
    "            mst[to] = []  # 在MST中添加新节点  \n",
    "            mst[frm].append((cost, to))  # 添加边到MST  \n",
    "            mst[to].append((cost, frm))  # 由于是无向图，双向添加边  \n",
    "            for to_next, cost2 in graph[to].items():  \n",
    "                if to_next not in visited:  \n",
    "                    heapq.heappush(edges, (cost2, to, to_next))  # 添加相邻节点的边到堆中  \n",
    "  \n",
    "    return mst  # 返回最小生成树  \n",
    "  \n",
    "# 示例图的邻接表表示  \n",
    "graph = {  \n",
    "    'A': {'B': 1, 'C': 4},  \n",
    "    'B': {'A': 1, 'C': 2, 'D': 5},  \n",
    "    'C': {'A': 4, 'B': 2, 'D': 1},  \n",
    "    'D': {'B': 5, 'C': 1}  \n",
    "}  \n",
    "  \n",
    "# 运行Prim算法  \n",
    "mst = prim(graph, 'A')  \n",
    "print(\"Minimum Spanning Tree:\", mst)"
   ]
  },
  {
   "cell_type": "code",
   "execution_count": 18,
   "metadata": {},
   "outputs": [
    {
     "name": "stdout",
     "output_type": "stream",
     "text": [
      "[(5, 'A', 'D'), (5, 'C', 'E'), (6, 'D', 'F'), (7, 'A', 'B'), (7, 'B', 'E'), (9, 'E', 'G')]\n"
     ]
    }
   ],
   "source": [
    "# 以全局变量X定义节点集合，即类似{'A':'A','B':'B','C':'C','D':'D'},如果A、B两点连通，则会更改为{'A':'B','B':'B\",...},即任何两点连通之后，两点的值value将相同。\n",
    "X = dict()\n",
    "R = dict() # 各点的初始等级均为0,如果被做为连接的的末端，则增加1\n",
    "\n",
    "def make_set(point):\n",
    "    X[point] = point\n",
    "    R[point] = 0\n",
    "def find(point):\n",
    "    if X[point] != point:\n",
    "        X[point] = find(X[point])\n",
    "    return X[point]\n",
    "def merge(point1, point2):\n",
    "    '''连接两个分量（节点）\n",
    "    '''\n",
    "    r1 = find(point1)\n",
    "    r2 = find(point2)\n",
    "    if r1 != r2:\n",
    "        if R[r1] > R[r2]:\n",
    "            X[r2] = r1\n",
    "        else:\n",
    "            X[r1] = r2\n",
    "            if R[r1] == R[r2]:\n",
    "                R[r2] += 1\n",
    "def kruskal(vertices,edges):\n",
    "    '''KRUSKAL算法实现\n",
    "    '''\n",
    "    for vertice in vertices:\n",
    "        make_set(vertice)\n",
    "    minu_tree = []\n",
    "    edges.sort()  # 按照权重从小到大排序\n",
    "    for edge in edges:\n",
    "        weight, vertice1, vertice2 = edge\n",
    "        if find(vertice1) != find(vertice2):\n",
    "            merge(vertice1, vertice2)\n",
    "            minu_tree.append(edge)\n",
    "    return minu_tree\n",
    "\n",
    "\n",
    "vertices = ['A', 'B', 'C', 'D', 'E', 'F', 'G']\n",
    "edges = [(7, 'A', 'B'),\n",
    "            (5, 'A', 'D'),\n",
    "            (8, 'B', 'C'),\n",
    "            (9, 'B', 'D'),\n",
    "            (7, 'B', 'E'),\n",
    "            (5, 'C', 'E'),\n",
    "            (15, 'D', 'E'),\n",
    "            (6, 'D', 'F'),\n",
    "            (8, 'E', 'F'),\n",
    "            (9, 'E', 'G'),\n",
    "            (11, 'F', 'G'),\n",
    "            ]\n",
    "print(kruskal(vertices,edges))\n"
   ]
  },
  {
   "cell_type": "code",
   "execution_count": 23,
   "metadata": {},
   "outputs": [
    {
     "name": "stdout",
     "output_type": "stream",
     "text": [
      "Edges in the Minimum Spanning Tree: [('A', 'B', 1), ('C', 'D', 1), ('B', 'C', 2)]\n"
     ]
    }
   ],
   "source": [
    "def find(parent, i):  \n",
    "    if parent[i] != i:  \n",
    "        parent[i] = find(parent, parent[i])  \n",
    "    return parent[i]  \n",
    "  \n",
    "def union(parent, rank, x, y):  \n",
    "    root_x = find(parent, x)  \n",
    "    root_y = find(parent, y)  \n",
    "    if root_x != root_y:  \n",
    "        if rank[root_x] > rank[root_y]:  \n",
    "            parent[root_y] = root_x  \n",
    "        else:  \n",
    "            parent[root_x] = root_y  \n",
    "            if rank[root_x] == rank[root_y]:  \n",
    "                rank[root_y] += 1  \n",
    " \n",
    "def kruskal(graph):  \n",
    "    edges = []  \n",
    "    for u in graph:  \n",
    "        for v, w in graph[u].items():  \n",
    "            edges.append((w, u, v))  \n",
    "    edges.sort()  # Sort the edges by weight  \n",
    "  \n",
    "    mst = []  \n",
    "    parent = {v: v for v in graph}  # Initialize each node as its own set  \n",
    "    rank = {v: 0 for v in graph}    # Initialize rank for each set  \n",
    "  \n",
    "    for weight, u, v in edges:  \n",
    "        if find(parent, u) != find(parent, v):  # If the nodes are not connected  \n",
    "            union(parent, rank, u, v)           # Merge the sets  \n",
    "            mst.append((u, v, weight))          # Add the edge to the MST  \n",
    "  \n",
    "    return mst  \n",
    "  \n",
    "# Example graph represented as an adjacency list  \n",
    "graph = {  \n",
    "    'A': {'B': 1, 'C': 4},  \n",
    "    'B': {'A': 1, 'C': 2, 'D': 5},  \n",
    "    'C': {'A': 4, 'B': 2, 'D': 1},  \n",
    "    'D': {'B': 5, 'C': 1}  \n",
    "}  \n",
    "  \n",
    "# Run the Kruskal algorithm  \n",
    "mst = kruskal(graph)  \n",
    "print(\"Edges in the Minimum Spanning Tree:\", mst)"
   ]
  },
  {
   "cell_type": "code",
   "execution_count": 20,
   "metadata": {},
   "outputs": [
    {
     "name": "stdout",
     "output_type": "stream",
     "text": [
      "[1, 2, 3, 4, 5, 7, 6]\n",
      "[(1, 2), (2, 5), (3, 7), (4, 6), (4, 7), (4, 5)]\n",
      "[(1, 2), (2, 5), (3, 7), (4, 5), (4, 6), (4, 7)]\n",
      "[(4, 6, {'weight': 30}), (2, 5, {'weight': 40}), (4, 7, {'weight': 42}), (3, 7, {'weight': 45}), (1, 2, {'weight': 50}), (4, 5, {'weight': 50})]\n",
      "[(1, 2, {'weight': 50}), (2, 5, {'weight': 40}), (5, 4, {'weight': 50}), (4, 6, {'weight': 30}), (4, 7, {'weight': 42}), (7, 3, {'weight': 45})]\n"
     ]
    },
    {
     "data": {
      "image/png": "[encoded data removed]",
      "text/plain": [
       "<Figure size 640x480 with 1 Axes>"
      ]
     },
     "metadata": {},
     "output_type": "display_data"
    }
   ],
   "source": [
    "# networkX_E4.py\n",
    "# Demo of minimum spanning tree(MST) with NetworkX\n",
    "# Copyright 2021 YouCans, XUPT\n",
    "# Crated：2021-05-21\n",
    "\n",
    "import matplotlib.pyplot as plt # 导入 Matplotlib 工具包\n",
    "import networkx as nx  # 导入 NetworkX 工具包\n",
    "\n",
    "G = nx.Graph()  # 创建：空的 无向图\n",
    "G.add_weighted_edges_from([(1,2,50),(1,3,60),(2,4,65),(2,5,40),(3,4,52),\n",
    "                (3,7,45),(4,5,50),(4,6,30),(4,7,42),(5,6,70)])  # 向图中添加多条赋权边: (node1,node2,weight)\n",
    "\n",
    "T = nx.minimum_spanning_tree(G)  # 返回包括最小生成树的图\n",
    "print(T.nodes)  # [1, 2, 3, 4, 5, 7, 6]\n",
    "print(T.edges)  # [(1,2), (2,5), (3,7), (4,6), (4,7), (4,5)]\n",
    "print(sorted(T.edges)) # [(1,2), (2,5), (3,7), (4,5), (4,6), (4,7)]\n",
    "mst1 = nx.tree.minimum_spanning_edges(G, algorithm=\"kruskal\") # 返回值 带权的边\n",
    "print(list(mst1))\n",
    "# [(4,6,{'weight':30}), (2,5,{'weight':40}), (4,7,{'weight':42}), (3,7,{'weight':45}), (1,2,{'weight':50}), (4,5,{'weight':50})]\n",
    "mst2 = nx.tree.minimum_spanning_edges(G, algorithm=\"prim\")  # data=False 表示返回值不带权\n",
    "print(list(mst2))\n",
    "# [(1,2), (2,5), (5,4), (4,6), (4,7), (7,3)]\n",
    "\n",
    "pos={1:(2.5,10),2:(0,5),3:(7.5,10),4:(5,5),5:(2.5,0),6:(7.5,0),7:(10,5)}  # 指定顶点位置\n",
    "nx.draw(G, pos, with_labels=True, alpha=0.8)  # 绘制无向图\n",
    "labels = nx.get_edge_attributes(G,'weight')  # YouCans, XUPT\n",
    "nx.draw_networkx_edge_labels(G,pos,edge_labels=labels, font_color='c') # 显示边的权值\n",
    "nx.draw_networkx_edges(G,pos,edgelist=T.edges,edge_color='r',width=4)  # 设置指定边的颜色\n",
    "plt.show()\n"
   ]
  },
  {
   "cell_type": "code",
   "execution_count": 24,
   "metadata": {},
   "outputs": [
    {
     "name": "stdout",
     "output_type": "stream",
     "text": [
      "Nodes of MST (Kruskal): [1, 2, 3, 4, 5, 7, 6]\n",
      "Edges of MST (Kruskal): [(1, 2), (2, 5), (3, 7), (4, 6), (4, 7), (4, 5)]\n",
      "Sorted Edges of MST (Kruskal): [(1, 2), (2, 5), (3, 7), (4, 5), (4, 6), (4, 7)]\n",
      "MST Edges (Kruskal with weights): [(4, 6, {'weight': 30}), (2, 5, {'weight': 40}), (4, 7, {'weight': 42}), (3, 7, {'weight': 45}), (1, 2, {'weight': 50}), (4, 5, {'weight': 50})]\n",
      "MST Edges (Prim): [(1, 2), (2, 5), (5, 4), (4, 6), (4, 7), (7, 3)]\n"
     ]
    },
    {
     "data": {
      "image/png": "[encoded data removed]",
      "text/plain": [
       "<Figure size 640x480 with 1 Axes>"
      ]
     },
     "metadata": {},
     "output_type": "display_data"
    }
   ],
   "source": [
    "import matplotlib.pyplot as plt  \n",
    "import networkx as nx  \n",
    "  \n",
    "# 创建带权边的列表  \n",
    "weighted_edges = [(i, j, weight) for i, j, weight in [  \n",
    "    (1, 2, 50), (1, 3, 60), (2, 4, 65), (2, 5, 40), (3, 4, 52),  \n",
    "    (3, 7, 45), (4, 5, 50), (4, 6, 30), (4, 7, 42), (5, 6, 70)  \n",
    "]]  \n",
    "  \n",
    "# 创建无向图并添加边  \n",
    "def create_and_add_edges(G):  \n",
    "    G.add_weighted_edges_from(weighted_edges)  \n",
    "    return G  \n",
    "  \n",
    "# 计算最小生成树  \n",
    "def calculate_mst(G):  \n",
    "    mst_kruskal = nx.minimum_spanning_tree(G)  \n",
    "    mst_edges_kruskal = list(nx.tree.minimum_spanning_edges(G, algorithm=\"kruskal\"))  \n",
    "    mst_prim = list(nx.tree.minimum_spanning_edges(G, algorithm=\"prim\", data=False))  \n",
    "    return mst_kruskal, mst_edges_kruskal, mst_prim  \n",
    "  \n",
    "# 创建图  \n",
    "G = create_and_add_edges(nx.Graph())  \n",
    "  \n",
    "# 计算最小生成树  \n",
    "mst_kruskal, mst_edges_kruskal, mst_prim = calculate_mst(G)  \n",
    "  \n",
    "# 打印节点和边  \n",
    "print(\"Nodes of MST (Kruskal):\", mst_kruskal.nodes)  \n",
    "print(\"Edges of MST (Kruskal):\", mst_kruskal.edges)  \n",
    "print(\"Sorted Edges of MST (Kruskal):\", sorted(mst_kruskal.edges))  \n",
    "print(\"MST Edges (Kruskal with weights):\", mst_edges_kruskal)  \n",
    "print(\"MST Edges (Prim):\", mst_prim)  \n",
    "  \n",
    "# 指定顶点位置  \n",
    "pos = {  \n",
    "    1: (2.5, 10), 2: (0, 5), 3: (7.5, 10), 4: (5, 5),   \n",
    "    5: (2.5, 0), 6: (7.5, 0), 7: (10, 5)  \n",
    "}  \n",
    "  \n",
    "# 绘制图形  \n",
    "nx.draw(G, pos, with_labels=True, alpha=0.8, node_color='lightblue', edge_color='gray')  \n",
    "labels = nx.get_edge_attributes(G, 'weight')  \n",
    "nx.draw_networkx_edge_labels(G, pos, edge_labels=labels, font_color='red', font_size=12)  \n",
    "nx.draw_networkx_edges(G, pos, edgelist=mst_kruskal.edges, edge_color='red', width=3, alpha=0.9)  \n",
    "  \n",
    "# 显示图形  \n",
    "plt.axis('off')  # 不显示坐标轴  \n",
    "plt.show()"
   ]
  }
 ],
 "metadata": {
  "kernelspec": {
   "display_name": "base",
   "language": "python",
   "name": "python3"
  },
  "language_info": {
   "codemirror_mode": {
    "name": "ipython",
    "version": 3
   },
   "file_extension": ".py",
   "mimetype": "text/x-python",
   "name": "python",
   "nbconvert_exporter": "python",
   "pygments_lexer": "ipython3",
   "version": "3.7.6"
  },
  "orig_nbformat": 4
 },
 "nbformat": 4,
 "nbformat_minor": 2
}
