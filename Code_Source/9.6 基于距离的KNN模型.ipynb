{
 "cells": [
  {
   "cell_type": "code",
   "execution_count": 2,
   "metadata": {},
   "outputs": [
    {
     "name": "stdout",
     "output_type": "stream",
     "text": [
      "1.0\n",
      "1.0\n",
      "0.9777777777777777\n",
      "0.9333333333333333\n",
      "0.9111111111111111\n",
      "0.9111111111111111\n",
      "0.8888888888888888\n",
      "0.8888888888888888\n",
      "0.8888888888888888\n"
     ]
    }
   ],
   "source": [
    "import numpy as np\n",
    "from sklearn.datasets import load_iris\n",
    "from sklearn.metrics import accuracy_score\n",
    "from sklearn.model_selection import train_test_split\n",
    "\n",
    "x, y = load_iris(return_X_y=True)\n",
    "x_train, x_test, y_train, y_test = train_test_split(x, y, train_size=0.7, random_state=42)\n",
    "\n",
    "\n",
    "def distance(a, b):\n",
    "    return np.sqrt(np.sum(np.square(a - b)))\n",
    "\n",
    "\n",
    "def KNN(x_train, y_train, x_test, k):\n",
    "    def get_label(x):\n",
    "        dist = list(map(lambda a: distance(a, x), x_train))\n",
    "        ind = np.argsort(dist)\n",
    "        ind = ind[:k]\n",
    "        labels = np.zeros(3)\n",
    "        for i in ind:\n",
    "            label = y_train[ind].astype(int)\n",
    "            labels[label] += 1\n",
    "        return np.argmax(labels)\n",
    "\n",
    "    y_predict = np.zeros(len(x_test))\n",
    "    for i in range(len(x_test)):\n",
    "        y_predict[i] = get_label(x_test[i])\n",
    "    return y_predict\n",
    "\n",
    "\n",
    "for k in range(1, 10):\n",
    "    y_predict = KNN(x_train, y_train, x_test, k)\n",
    "    print(accuracy_score(y_test, y_predict))\n",
    "\n"
   ]
  }
 ],
 "metadata": {
  "kernelspec": {
   "display_name": "base",
   "language": "python",
   "name": "python3"
  },
  "language_info": {
   "codemirror_mode": {
    "name": "ipython",
    "version": 3
   },
   "file_extension": ".py",
   "mimetype": "text/x-python",
   "name": "python",
   "nbconvert_exporter": "python",
   "pygments_lexer": "ipython3",
   "version": "3.7.6"
  },
  "orig_nbformat": 4
 },
 "nbformat": 4,
 "nbformat_minor": 2
}
