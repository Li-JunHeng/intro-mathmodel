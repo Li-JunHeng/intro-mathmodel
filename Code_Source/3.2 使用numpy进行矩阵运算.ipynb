{
 "cells": [
  {
   "cell_type": "code",
   "execution_count": 53,
   "metadata": {},
   "outputs": [
    {
     "data": {
      "text/plain": [
       "array([0, 1, 2, 3, 4])"
      ]
     },
     "execution_count": 53,
     "metadata": {},
     "output_type": "execute_result"
    }
   ],
   "source": [
    "import numpy as np\n",
    "\n",
    "a = np.arange(5)\n",
    "a"
   ]
  },
  {
   "cell_type": "code",
   "execution_count": 54,
   "metadata": {},
   "outputs": [
    {
     "data": {
      "text/plain": [
       "dtype('int32')"
      ]
     },
     "execution_count": 54,
     "metadata": {},
     "output_type": "execute_result"
    }
   ],
   "source": [
    "a.dtype"
   ]
  },
  {
   "cell_type": "code",
   "execution_count": 55,
   "metadata": {},
   "outputs": [
    {
     "data": {
      "text/plain": [
       "(1, 5)"
      ]
     },
     "execution_count": 55,
     "metadata": {},
     "output_type": "execute_result"
    }
   ],
   "source": [
    "a = np.array([[1, 2, 3, 4, 5]])\n",
    "a.shape"
   ]
  },
  {
   "cell_type": "code",
   "execution_count": 56,
   "metadata": {},
   "outputs": [],
   "source": "m = np.array([np.arange(2), np.arange(2)])"
  },
  {
   "cell_type": "code",
   "execution_count": 57,
   "metadata": {},
   "outputs": [
    {
     "data": {
      "text/plain": [
       "array([[0, 1],\n",
       "       [0, 1]])"
      ]
     },
     "execution_count": 57,
     "metadata": {},
     "output_type": "execute_result"
    }
   ],
   "source": [
    "m"
   ]
  },
  {
   "cell_type": "code",
   "execution_count": 58,
   "metadata": {},
   "outputs": [
    {
     "data": {
      "text/plain": [
       "array([0., 1., 2., 3., 4., 5., 6.], dtype=float32)"
      ]
     },
     "execution_count": 58,
     "metadata": {},
     "output_type": "execute_result"
    }
   ],
   "source": [
    "a = np.arange(7, dtype='f')\n",
    "a"
   ]
  },
  {
   "cell_type": "code",
   "execution_count": 59,
   "metadata": {},
   "outputs": [
    {
     "data": {
      "text/plain": [
       "array([2., 3.], dtype=float32)"
      ]
     },
     "execution_count": 59,
     "metadata": {},
     "output_type": "execute_result"
    }
   ],
   "source": [
    "a[2:4]"
   ]
  },
  {
   "cell_type": "code",
   "execution_count": 60,
   "metadata": {},
   "outputs": [
    {
     "data": {
      "text/plain": [
       "array([[[ 0,  1,  2,  3],\n",
       "        [ 4,  5,  6,  7],\n",
       "        [ 8,  9, 10, 11]],\n",
       "\n",
       "       [[12, 13, 14, 15],\n",
       "        [16, 17, 18, 19],\n",
       "        [20, 21, 22, 23]]])"
      ]
     },
     "execution_count": 60,
     "metadata": {},
     "output_type": "execute_result"
    }
   ],
   "source": [
    "b = np.arange(24).reshape(2, 3, 4)\n",
    "b"
   ]
  },
  {
   "cell_type": "code",
   "execution_count": 61,
   "metadata": {},
   "outputs": [
    {
     "data": {
      "text/plain": [
       "array([ 0,  1,  2,  3,  4,  5,  6,  7,  8,  9, 10, 11, 12, 13, 14, 15, 16,\n",
       "       17, 18, 19, 20, 21, 22, 23])"
      ]
     },
     "execution_count": 61,
     "metadata": {},
     "output_type": "execute_result"
    }
   ],
   "source": [
    "b.flatten()"
   ]
  },
  {
   "cell_type": "code",
   "execution_count": 62,
   "metadata": {},
   "outputs": [
    {
     "data": {
      "text/plain": [
       "array([ 0,  1,  2,  3,  4,  5,  6,  7,  8,  9, 10, 11, 12, 13, 14, 15, 16,\n",
       "       17, 18, 19, 20, 21, 22, 23])"
      ]
     },
     "execution_count": 62,
     "metadata": {},
     "output_type": "execute_result"
    }
   ],
   "source": [
    "b.ravel()"
   ]
  },
  {
   "cell_type": "code",
   "execution_count": 63,
   "metadata": {},
   "outputs": [],
   "source": [
    "b.resize((24,))"
   ]
  },
  {
   "cell_type": "code",
   "execution_count": 64,
   "metadata": {},
   "outputs": [
    {
     "data": {
      "text/plain": [
       "array([ 0,  1,  2,  3,  4,  5,  6,  7,  8,  9, 10, 11, 12, 13, 14, 15, 16,\n",
       "       17, 18, 19, 20, 21, 22, 23])"
      ]
     },
     "execution_count": 64,
     "metadata": {},
     "output_type": "execute_result"
    }
   ],
   "source": [
    "b"
   ]
  },
  {
   "cell_type": "code",
   "execution_count": 65,
   "metadata": {},
   "outputs": [],
   "source": [
    "a = np.arange(9).reshape(3, 3)\n",
    "b = np.eye(3)"
   ]
  },
  {
   "cell_type": "code",
   "execution_count": 66,
   "metadata": {},
   "outputs": [
    {
     "data": {
      "text/plain": [
       "array([[0., 1., 2., 1., 0., 0.],\n",
       "       [3., 4., 5., 0., 1., 0.],\n",
       "       [6., 7., 8., 0., 0., 1.]])"
      ]
     },
     "execution_count": 66,
     "metadata": {},
     "output_type": "execute_result"
    }
   ],
   "source": "np.hstack((a, b))"
  },
  {
   "cell_type": "code",
   "execution_count": 67,
   "metadata": {},
   "outputs": [
    {
     "data": {
      "text/plain": [
       "array([[0., 1., 2., 1., 0., 0.],\n",
       "       [3., 4., 5., 0., 1., 0.],\n",
       "       [6., 7., 8., 0., 0., 1.]])"
      ]
     },
     "execution_count": 67,
     "metadata": {},
     "output_type": "execute_result"
    }
   ],
   "source": "np.concatenate((a, b), axis=1)"
  },
  {
   "cell_type": "code",
   "execution_count": 68,
   "metadata": {},
   "outputs": [
    {
     "data": {
      "text/plain": [
       "array([[0., 1., 2.],\n",
       "       [3., 4., 5.],\n",
       "       [6., 7., 8.],\n",
       "       [1., 0., 0.],\n",
       "       [0., 1., 0.],\n",
       "       [0., 0., 1.]])"
      ]
     },
     "execution_count": 68,
     "metadata": {},
     "output_type": "execute_result"
    }
   ],
   "source": "np.vstack((a, b))"
  },
  {
   "cell_type": "code",
   "execution_count": 69,
   "metadata": {},
   "outputs": [
    {
     "data": {
      "text/plain": [
       "array([[0, 3, 6],\n",
       "       [1, 4, 7],\n",
       "       [2, 5, 8]])"
      ]
     },
     "execution_count": 69,
     "metadata": {},
     "output_type": "execute_result"
    }
   ],
   "source": [
    "a.T"
   ]
  },
  {
   "cell_type": "code",
   "execution_count": 70,
   "metadata": {},
   "outputs": [
    {
     "data": {
      "text/plain": [
       "array([[0, 3, 6],\n",
       "       [1, 4, 7],\n",
       "       [2, 5, 8]])"
      ]
     },
     "execution_count": 70,
     "metadata": {},
     "output_type": "execute_result"
    }
   ],
   "source": [
    "np.transpose(a)"
   ]
  },
  {
   "cell_type": "code",
   "execution_count": 71,
   "metadata": {},
   "outputs": [
    {
     "data": {
      "text/plain": [
       "array([[0., 1., 2.],\n",
       "       [3., 4., 5.],\n",
       "       [6., 7., 8.]], dtype=float32)"
      ]
     },
     "execution_count": 71,
     "metadata": {},
     "output_type": "execute_result"
    }
   ],
   "source": [
    "a.astype(np.float32)"
   ]
  },
  {
   "cell_type": "code",
   "execution_count": 72,
   "metadata": {},
   "outputs": [
    {
     "data": {
      "text/plain": [
       "[[0, 1, 2], [3, 4, 5], [6, 7, 8]]"
      ]
     },
     "execution_count": 72,
     "metadata": {},
     "output_type": "execute_result"
    }
   ],
   "source": [
    "a.tolist()"
   ]
  },
  {
   "cell_type": "code",
   "execution_count": 73,
   "metadata": {},
   "outputs": [],
   "source": [
    "np.savetxt('eye.csv', a, delimiter=',', fmt='%.4f')\n",
    "# c,v = np.loadtxt('data.csv',delimiter=',',usecols=(6,7),unpack = True)"
   ]
  },
  {
   "cell_type": "code",
   "execution_count": 74,
   "metadata": {},
   "outputs": [
    {
     "name": "stdout",
     "output_type": "stream",
     "text": [
      "14 0 18.666666666666668 4.320493798938574 7.0 [1 1 1 1 1 1 1 1 1 1 1 1 1 1]\n"
     ]
    }
   ],
   "source": [
    "a = np.arange(15)\n",
    "print(np.max(a), np.min(a), np.var(a), np.std(a), np.median(a), np.diff(a))"
   ]
  },
  {
   "cell_type": "code",
   "execution_count": 75,
   "metadata": {},
   "outputs": [
    {
     "data": {
      "text/plain": [
       "(array([ 5,  6,  7,  8,  9, 10, 11, 12, 13, 14], dtype=int64),)"
      ]
     },
     "execution_count": 75,
     "metadata": {},
     "output_type": "execute_result"
    }
   ],
   "source": "np.where(a > 4)"
  },
  {
   "cell_type": "code",
   "execution_count": 76,
   "metadata": {},
   "outputs": [
    {
     "data": {
      "text/plain": [
       "array([[ 0,  1,  2,  3,  4],\n",
       "       [ 5,  6,  7,  8,  9],\n",
       "       [10, 11, 12, 13, 14]])"
      ]
     },
     "execution_count": 76,
     "metadata": {},
     "output_type": "execute_result"
    }
   ],
   "source": [
    "a.resize((3, 5))\n",
    "a"
   ]
  },
  {
   "cell_type": "code",
   "execution_count": 77,
   "metadata": {},
   "outputs": [
    {
     "data": {
      "text/plain": [
       "(array([1, 1, 1, 2, 2, 2, 2, 2], dtype=int64),\n",
       " array([2, 3, 4, 0, 1, 2, 3, 4], dtype=int64))"
      ]
     },
     "execution_count": 77,
     "metadata": {},
     "output_type": "execute_result"
    }
   ],
   "source": "np.where(a > 6)"
  },
  {
   "cell_type": "code",
   "execution_count": 78,
   "metadata": {},
   "outputs": [
    {
     "data": {
      "text/plain": [
       "array([ 7,  8,  9, 10, 11, 12, 13, 14])"
      ]
     },
     "execution_count": 78,
     "metadata": {},
     "output_type": "execute_result"
    }
   ],
   "source": "a[np.where(a > 6)]"
  },
  {
   "cell_type": "code",
   "execution_count": 79,
   "metadata": {},
   "outputs": [
    {
     "data": {
      "text/plain": [
       "0"
      ]
     },
     "execution_count": 79,
     "metadata": {},
     "output_type": "execute_result"
    }
   ],
   "source": [
    "np.argmin(a)"
   ]
  },
  {
   "cell_type": "code",
   "execution_count": 80,
   "metadata": {},
   "outputs": [
    {
     "data": {
      "text/plain": [
       "14"
      ]
     },
     "execution_count": 80,
     "metadata": {},
     "output_type": "execute_result"
    }
   ],
   "source": [
    "np.argmax(a)"
   ]
  },
  {
   "cell_type": "code",
   "execution_count": 81,
   "metadata": {},
   "outputs": [
    {
     "data": {
      "text/plain": [
       "array([ 0,  1,  2,  3,  4,  5,  6,  7,  8,  9, 10, 11, 12, 13, 14],\n",
       "      dtype=int64)"
      ]
     },
     "execution_count": 81,
     "metadata": {},
     "output_type": "execute_result"
    }
   ],
   "source": "np.argsort(2 * a.flatten())"
  },
  {
   "cell_type": "code",
   "execution_count": 82,
   "metadata": {},
   "outputs": [
    {
     "data": {
      "text/plain": [
       "array([[-1,  2, -1]])"
      ]
     },
     "execution_count": 82,
     "metadata": {},
     "output_type": "execute_result"
    }
   ],
   "source": [
    "a = np.array([[1, 2, 3]])\n",
    "b = np.array([[2, 3, 4]])\n",
    "np.cross(a, b)"
   ]
  },
  {
   "cell_type": "code",
   "execution_count": 83,
   "metadata": {},
   "outputs": [
    {
     "data": {
      "text/plain": [
       "array([[20]])"
      ]
     },
     "execution_count": 83,
     "metadata": {},
     "output_type": "execute_result"
    }
   ],
   "source": "np.dot(a, b.T)"
  },
  {
   "cell_type": "code",
   "execution_count": 84,
   "metadata": {},
   "outputs": [
    {
     "data": {
      "text/plain": [
       "array([[20]])"
      ]
     },
     "execution_count": 84,
     "metadata": {},
     "output_type": "execute_result"
    }
   ],
   "source": "a @ b.T"
  },
  {
   "cell_type": "code",
   "execution_count": 85,
   "metadata": {},
   "outputs": [
    {
     "data": {
      "text/plain": [
       "(6, 6)"
      ]
     },
     "execution_count": 85,
     "metadata": {},
     "output_type": "execute_result"
    }
   ],
   "source": "a.sum(), a.prod()"
  },
  {
   "cell_type": "code",
   "execution_count": 86,
   "metadata": {},
   "outputs": [
    {
     "data": {
      "text/plain": [
       "array([-3.14159265e+00, -3.11017673e+00, -3.07876080e+00, -3.04734487e+00,\n",
       "       -3.01592895e+00, -2.98451302e+00, -2.95309709e+00, -2.92168117e+00,\n",
       "       -2.89026524e+00, -2.85884931e+00, -2.82743339e+00, -2.79601746e+00,\n",
       "       -2.76460154e+00, -2.73318561e+00, -2.70176968e+00, -2.67035376e+00,\n",
       "       -2.63893783e+00, -2.60752190e+00, -2.57610598e+00, -2.54469005e+00,\n",
       "       -2.51327412e+00, -2.48185820e+00, -2.45044227e+00, -2.41902634e+00,\n",
       "       -2.38761042e+00, -2.35619449e+00, -2.32477856e+00, -2.29336264e+00,\n",
       "       -2.26194671e+00, -2.23053078e+00, -2.19911486e+00, -2.16769893e+00,\n",
       "       -2.13628300e+00, -2.10486708e+00, -2.07345115e+00, -2.04203522e+00,\n",
       "       -2.01061930e+00, -1.97920337e+00, -1.94778745e+00, -1.91637152e+00,\n",
       "       -1.88495559e+00, -1.85353967e+00, -1.82212374e+00, -1.79070781e+00,\n",
       "       -1.75929189e+00, -1.72787596e+00, -1.69646003e+00, -1.66504411e+00,\n",
       "       -1.63362818e+00, -1.60221225e+00, -1.57079633e+00, -1.53938040e+00,\n",
       "       -1.50796447e+00, -1.47654855e+00, -1.44513262e+00, -1.41371669e+00,\n",
       "       -1.38230077e+00, -1.35088484e+00, -1.31946891e+00, -1.28805299e+00,\n",
       "       -1.25663706e+00, -1.22522113e+00, -1.19380521e+00, -1.16238928e+00,\n",
       "       -1.13097336e+00, -1.09955743e+00, -1.06814150e+00, -1.03672558e+00,\n",
       "       -1.00530965e+00, -9.73893723e-01, -9.42477796e-01, -9.11061870e-01,\n",
       "       -8.79645943e-01, -8.48230016e-01, -8.16814090e-01, -7.85398163e-01,\n",
       "       -7.53982237e-01, -7.22566310e-01, -6.91150384e-01, -6.59734457e-01,\n",
       "       -6.28318531e-01, -5.96902604e-01, -5.65486678e-01, -5.34070751e-01,\n",
       "       -5.02654825e-01, -4.71238898e-01, -4.39822972e-01, -4.08407045e-01,\n",
       "       -3.76991118e-01, -3.45575192e-01, -3.14159265e-01, -2.82743339e-01,\n",
       "       -2.51327412e-01, -2.19911486e-01, -1.88495559e-01, -1.57079633e-01,\n",
       "       -1.25663706e-01, -9.42477796e-02, -6.28318531e-02, -3.14159265e-02,\n",
       "        4.44089210e-16,  3.14159265e-02,  6.28318531e-02,  9.42477796e-02,\n",
       "        1.25663706e-01,  1.57079633e-01,  1.88495559e-01,  2.19911486e-01,\n",
       "        2.51327412e-01,  2.82743339e-01,  3.14159265e-01,  3.45575192e-01,\n",
       "        3.76991118e-01,  4.08407045e-01,  4.39822972e-01,  4.71238898e-01,\n",
       "        5.02654825e-01,  5.34070751e-01,  5.65486678e-01,  5.96902604e-01,\n",
       "        6.28318531e-01,  6.59734457e-01,  6.91150384e-01,  7.22566310e-01,\n",
       "        7.53982237e-01,  7.85398163e-01,  8.16814090e-01,  8.48230016e-01,\n",
       "        8.79645943e-01,  9.11061870e-01,  9.42477796e-01,  9.73893723e-01,\n",
       "        1.00530965e+00,  1.03672558e+00,  1.06814150e+00,  1.09955743e+00,\n",
       "        1.13097336e+00,  1.16238928e+00,  1.19380521e+00,  1.22522113e+00,\n",
       "        1.25663706e+00,  1.28805299e+00,  1.31946891e+00,  1.35088484e+00,\n",
       "        1.38230077e+00,  1.41371669e+00,  1.44513262e+00,  1.47654855e+00,\n",
       "        1.50796447e+00,  1.53938040e+00,  1.57079633e+00,  1.60221225e+00,\n",
       "        1.63362818e+00,  1.66504411e+00,  1.69646003e+00,  1.72787596e+00,\n",
       "        1.75929189e+00,  1.79070781e+00,  1.82212374e+00,  1.85353967e+00,\n",
       "        1.88495559e+00,  1.91637152e+00,  1.94778745e+00,  1.97920337e+00,\n",
       "        2.01061930e+00,  2.04203522e+00,  2.07345115e+00,  2.10486708e+00,\n",
       "        2.13628300e+00,  2.16769893e+00,  2.19911486e+00,  2.23053078e+00,\n",
       "        2.26194671e+00,  2.29336264e+00,  2.32477856e+00,  2.35619449e+00,\n",
       "        2.38761042e+00,  2.41902634e+00,  2.45044227e+00,  2.48185820e+00,\n",
       "        2.51327412e+00,  2.54469005e+00,  2.57610598e+00,  2.60752190e+00,\n",
       "        2.63893783e+00,  2.67035376e+00,  2.70176968e+00,  2.73318561e+00,\n",
       "        2.76460154e+00,  2.79601746e+00,  2.82743339e+00,  2.85884931e+00,\n",
       "        2.89026524e+00,  2.92168117e+00,  2.95309709e+00,  2.98451302e+00,\n",
       "        3.01592895e+00,  3.04734487e+00,  3.07876080e+00,  3.11017673e+00,\n",
       "        3.14159265e+00])"
      ]
     },
     "execution_count": 86,
     "metadata": {},
     "output_type": "execute_result"
    }
   ],
   "source": [
    "t = np.linspace(-np.pi, np.pi, 201)\n",
    "t"
   ]
  },
  {
   "cell_type": "code",
   "execution_count": 87,
   "metadata": {},
   "outputs": [
    {
     "data": {
      "text/plain": [
       "[array([[1, 2, 3, 4, 5, 6],\n",
       "        [1, 2, 3, 4, 5, 6],\n",
       "        [1, 2, 3, 4, 5, 6],\n",
       "        [1, 2, 3, 4, 5, 6],\n",
       "        [1, 2, 3, 4, 5, 6],\n",
       "        [1, 2, 3, 4, 5, 6]]),\n",
       " array([[1, 1, 1, 1, 1, 1],\n",
       "        [4, 4, 4, 4, 4, 4],\n",
       "        [5, 5, 5, 5, 5, 5],\n",
       "        [6, 6, 6, 6, 6, 6],\n",
       "        [7, 7, 7, 7, 7, 7],\n",
       "        [9, 9, 9, 9, 9, 9]])]"
      ]
     },
     "execution_count": 87,
     "metadata": {},
     "output_type": "execute_result"
    }
   ],
   "source": [
    "x = np.array([1, 2, 3, 4, 5, 6])\n",
    "y = np.array([1, 4, 5, 6, 7, 9])\n",
    "np.meshgrid(x, y)"
   ]
  },
  {
   "cell_type": "code",
   "execution_count": 88,
   "metadata": {},
   "outputs": [
    {
     "data": {
      "text/plain": [
       "matrix([[-4.5,  7. , -1.5],\n",
       "        [-2. ,  4. , -1. ],\n",
       "        [ 1.5, -2. ,  0.5]])"
      ]
     },
     "execution_count": 88,
     "metadata": {},
     "output_type": "execute_result"
    }
   ],
   "source": [
    "A = np.mat(\"0 1 2; 1 0 3; 4 -3 8\")\n",
    "np.linalg.inv(A)"
   ]
  },
  {
   "cell_type": "code",
   "execution_count": 89,
   "metadata": {},
   "outputs": [
    {
     "data": {
      "text/plain": [
       "-2.0"
      ]
     },
     "execution_count": 89,
     "metadata": {},
     "output_type": "execute_result"
    }
   ],
   "source": [
    "np.linalg.det(A)"
   ]
  },
  {
   "cell_type": "code",
   "execution_count": 90,
   "metadata": {},
   "outputs": [
    {
     "data": {
      "image/png": "[encoded data removed]",
      "text/plain": [
       "<Figure size 640x480 with 1 Axes>"
      ]
     },
     "metadata": {},
     "output_type": "display_data"
    }
   ],
   "source": [
    "import matplotlib.pyplot as plt\n",
    "\n",
    "normal_values = np.random.normal(size=10000)\n",
    "plt.hist(normal_values, bins=50)\n",
    "plt.show()"
   ]
  },
  {
   "cell_type": "code",
   "execution_count": 91,
   "metadata": {},
   "outputs": [
    {
     "data": {
      "text/plain": [
       "(array([0, 0, 1, 1, 1, 2, 2], dtype=int64),\n",
       " array([0, 2, 0, 1, 2, 1, 2], dtype=int64))"
      ]
     },
     "execution_count": 91,
     "metadata": {},
     "output_type": "execute_result"
    }
   ],
   "source": [
    "a = np.array([[1, np.nan, 3], [2, 3, 4], [np.nan, 2, 4]])\n",
    "np.where(a < np.inf)"
   ]
  },
  {
   "cell_type": "code",
   "execution_count": 92,
   "metadata": {},
   "outputs": [
    {
     "data": {
      "text/plain": [
       "False"
      ]
     },
     "execution_count": 92,
     "metadata": {},
     "output_type": "execute_result"
    }
   ],
   "source": "np.nan == np.nan"
  }
 ],
 "metadata": {
  "kernelspec": {
   "display_name": "base",
   "language": "python",
   "name": "python3"
  },
  "language_info": {
   "codemirror_mode": {
    "name": "ipython",
    "version": 3
   },
   "file_extension": ".py",
   "mimetype": "text/x-python",
   "name": "python",
   "nbconvert_exporter": "python",
   "pygments_lexer": "ipython3",
   "version": "3.7.6"
  },
  "orig_nbformat": 4
 },
 "nbformat": 4,
 "nbformat_minor": 2
}
