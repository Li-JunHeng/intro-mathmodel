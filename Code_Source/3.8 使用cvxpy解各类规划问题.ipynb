{
 "cells": [
  {
   "cell_type": "code",
   "execution_count": 1,
   "metadata": {},
   "outputs": [
    {
     "name": "stdout",
     "output_type": "stream",
     "text": [
      "status: optimal\n",
      "optimal value 1.0\n",
      "optimal var 1.0 1.570086213240983e-22\n"
     ]
    }
   ],
   "source": [
    "import cvxpy as cvx\n",
    "#定义优化变量\n",
    "x = cvx.Variable()   \n",
    "y = cvx.Variable()\n",
    "# 定义约束条件\n",
    "constraints = [x + y == 1,\n",
    "               x - y >= 1]\n",
    "# 定义优化问题\n",
    "obj = cvx.Minimize((x - y)**2)\n",
    "# 定义优化问题\n",
    "prob = cvx.Problem(obj, constraints)\n",
    "#求解问题\n",
    "prob.solve()                      #返回最优值         \n",
    "print(\"status:\", prob.status)     #求解状态 \n",
    "print(\"optimal value\", prob.value) #目标函数优化值\n",
    "print(\"optimal var\", x.value, y.value) #优化变量的值，相应变量加.value\n"
   ]
  },
  {
   "cell_type": "code",
   "execution_count": 2,
   "metadata": {},
   "outputs": [
    {
     "name": "stdout",
     "output_type": "stream",
     "text": [
      "status: infeasible\n",
      "optimal value inf\n",
      "status: unbounded\n",
      "optimal value -inf\n"
     ]
    }
   ],
   "source": [
    "import cvxpy as cvx\n",
    "x = cvx.Variable()\n",
    "# 不可行问题\n",
    "prob = cvx.Problem(cvx.Minimize(x), [x >= 1, x <= 0])\n",
    "prob.solve()\n",
    "print(\"status:\", prob.status)\n",
    "print(\"optimal value\", prob.value)\n",
    "# 无界问题\n",
    "prob = cvx.Problem(cvx.Minimize(x))\n",
    "prob.solve()\n",
    "print(\"status:\", prob.status)\n",
    "print(\"optimal value\", prob.value)\n"
   ]
  },
  {
   "cell_type": "code",
   "execution_count": 3,
   "metadata": {},
   "outputs": [],
   "source": [
    "# 标量\n",
    "a = cvx.Variable()\n",
    "# 向量\n",
    "x = cvx.Variable(5)\n",
    "# 矩阵大小为(5, 1).\n",
    "x = cvx.Variable((5, 1))\n",
    "# 矩阵大小为(4, 7).\n",
    "A = cvx.Variable((4, 7))\n"
   ]
  },
  {
   "cell_type": "code",
   "execution_count": 4,
   "metadata": {},
   "outputs": [
    {
     "name": "stdout",
     "output_type": "stream",
     "text": [
      "Optimal value 4.141338603672535\n",
      "Optimal var\n",
      "[-4.95922264e-21  6.07571976e-21  1.34643668e-01  1.24976681e-01\n",
      " -4.57130806e-21]\n"
     ]
    },
    {
     "name": "stderr",
     "output_type": "stream",
     "text": [
      "e:\\anaconda\\lib\\site-packages\\cvxpy\\expressions\\expression.py:612: UserWarning: \n",
      "This use of ``*`` has resulted in matrix multiplication.\n",
      "Using ``*`` for matrix multiplication has been deprecated since CVXPY 1.1.\n",
      "    Use ``*`` for matrix-scalar and vector-scalar multiplication.\n",
      "    Use ``@`` for matrix-matrix and matrix-vector multiplication.\n",
      "    Use ``multiply`` for elementwise multiplication.\n",
      "This code path has been hit 1 times so far.\n",
      "\n",
      "  warnings.warn(msg, UserWarning)\n"
     ]
    }
   ],
   "source": [
    "# Solves a bounded least-squares problem.\n",
    "\n",
    "import cvxpy as cvx\n",
    "import numpy\n",
    "\n",
    "# Problem data.\n",
    "m = 10\n",
    "n = 5\n",
    "numpy.random.seed(1)\n",
    "A = numpy.random.randn(m, n)\n",
    "b = numpy.random.randn(m)\n",
    "# Construct the problem.\n",
    "x = cvx.Variable(n)\n",
    "objective = cvx.Minimize(cvx.sum_squares(A*x - b))\n",
    "constraints = [0 <= x, x <= 1]\n",
    "prob = cvx.Problem(objective, constraints)\n",
    "print(\"Optimal value\", prob.solve())\n",
    "print(\"Optimal var\")\n",
    "print(x.value)   # A numpy ndarray.**\n"
   ]
  },
  {
   "cell_type": "code",
   "execution_count": 5,
   "metadata": {},
   "outputs": [],
   "source": [
    "#paraters的定义与赋值\n",
    "# Positive scalar parameter.\n",
    "m = cvx.Parameter(nonneg=True)\n",
    "# Column vector parameter with unknown sign (by default).\n",
    "c = cvx.Parameter(5)\n",
    "# Matrix parameter with negative entries.\n",
    "G = cvx.Parameter((4, 7), nonpos=True)\n",
    "# Assigns a constant value to G.\n",
    "G.value = -numpy.ones((4, 7))\n",
    "\n",
    "\n",
    "# Create parameter, then assign value.\n",
    "rho = cvx.Parameter(nonneg=True)\n",
    "rho.value = 2\n",
    "# Initialize parameter with a value.\n",
    "rho = cvx.Parameter(nonneg=True, value=2)\n"
   ]
  },
  {
   "cell_type": "code",
   "execution_count": 6,
   "metadata": {},
   "outputs": [
    {
     "name": "stdout",
     "output_type": "stream",
     "text": [
      "Restricted license - for non-production use only - expires 2023-10-25\n",
      "最优值: 3360.0\n",
      "最优解: [20. 30.]\n",
      "剩余牛奶： 0.0\n",
      "剩余劳动时间： 0.0\n",
      "A1剩余加工能力： 40.0\n"
     ]
    }
   ],
   "source": [
    "# eg.1\n",
    "import cvxpy as cp\n",
    "import numpy as np\n",
    " \n",
    "coef = np.array([72, 64])#输入目标函数系数\n",
    "left = np.array([[1, 1], [12, 8], [3, 0]])#输入约束条件系数\n",
    "right = np.array([50, 480, 100])#输入约束条件上限值\n",
    "x = cp.Variable(2)#构造决策变量\n",
    "obj = cp.Maximize(coef @ x)#构造目标函数\n",
    "cons = [x >= 0, left @ x <= right]#构造约束条件\n",
    "prob = cp.Problem(obj, cons)#构建模型\n",
    "prob.solve(solver='GUROBI')#模型求解\n",
    "print(\"最优值:\", prob.value)\n",
    "print(\"最优解:\", x.value)\n",
    "print(\"剩余牛奶：\", right[0] - sum(left[0] * x.value))\n",
    "print(\"剩余劳动时间：\", right[1] - sum(left[1] * x.value))\n",
    "print(\"A1剩余加工能力：\", right[2] - sum(left[2] * x.value))"
   ]
  },
  {
   "cell_type": "code",
   "execution_count": 7,
   "metadata": {},
   "outputs": [
    {
     "name": "stdout",
     "output_type": "stream",
     "text": [
      "管理费用最小值为： 24400.0\n",
      "最优分配方案为： [ 0. 50.  0.  0.  0. 50.  0. 10. 40.  0. 10.]\n"
     ]
    }
   ],
   "source": [
    "# eg.2\n",
    "import cvxpy as cp\n",
    "import numpy as np\n",
    "#输入目标函数系数\n",
    "coef = np.array([160, 130, 220, 170,\n",
    "                 140, 130, 190, 150,\n",
    "                 190, 200, 230])\n",
    "#输入约束条件系数\n",
    "left = np.array([[1, 0, 0, 0, 1, 0, 0, 0, 1, 0, 0],\n",
    "                 [0, 1, 0, 0, 0, 1, 0, 0, 0, 1, 0],\n",
    "                 [0, 0, 1, 0, 0, 0, 1, 0, 0, 0, 1],\n",
    "                 [0, 0, 0, 1, 0, 0, 0, 1, 0, 0, 0]])\n",
    "right_min = np.array([30, 70, 10, 10])#输入约束条件下限值\n",
    "right_max = np.array([80, 140, 30, 50])#输入约束条件上限值\n",
    "x = cp.Variable(11)#构造决策变量\n",
    "obj = cp.Minimize(coef @ x)#构造目标函数\n",
    "#构造约束条件\n",
    "cons = [x >= 0,\n",
    "        left @ x <= right_max,\n",
    "        left @ x >= right_min,\n",
    "        cp.sum(x[0:4]) == 50,\n",
    "        cp.sum(x[4:8]) == 60,\n",
    "        cp.sum(x[8:11]) == 50]\n",
    "prob = cp.Problem(obj, cons)#构建模型\n",
    "prob.solve(solver=\"GUROBI\")#模型求解\n",
    "print(\"管理费用最小值为：\", prob.value)\n",
    "print(\"最优分配方案为：\", x.value)"
   ]
  },
  {
   "cell_type": "code",
   "execution_count": 8,
   "metadata": {},
   "outputs": [
    {
     "name": "stdout",
     "output_type": "stream",
     "text": [
      "最优值： 632.0\n",
      "最优解： [ 64. 168.   0.]\n",
      "钢材剩余量： 0.0\n",
      "劳动时间剩余量： 80.0\n"
     ]
    }
   ],
   "source": [
    "# eg.3\n",
    "import cvxpy as cp\n",
    "import numpy as np\n",
    " \n",
    "coef = np.array([2, 3, 4])#输入目标函数系数\n",
    "left = np.array([[1.5, 3, 5], [280, 250, 400]])#输入约束条件系数\n",
    "right = np.array([600, 60000])#输入输入约束条件上限值\n",
    "x = cp.Variable(3, integer=True)#创建决策变量，并且为整数\n",
    "obj = cp.Maximize(coef @ x)#构造目标函数\n",
    "cons = [x >= 0, left @ x <= right]#构造约束条件\n",
    "prob = cp.Problem(obj, cons)#构建模型\n",
    "prob.solve(solver=\"GUROBI\")#模型求解\n",
    "print(\"最优值：\", prob.value)\n",
    "print(\"最优解：\", x.value)\n",
    "print(\"钢材剩余量：\", right[0] - sum(left[0] * x.value))\n",
    "print(\"劳动时间剩余量：\", right[1] - sum(left[1] * x.value))"
   ]
  },
  {
   "cell_type": "code",
   "execution_count": 9,
   "metadata": {},
   "outputs": [
    {
     "name": "stdout",
     "output_type": "stream",
     "text": [
      "最优值： 610.0\n",
      "最优解： [ 80. 150.  -0.]\n",
      "钢材剩余量： 30.0\n",
      "劳动时间剩余量： 100.0\n"
     ]
    }
   ],
   "source": [
    "# eg.4\n",
    "import cvxpy as cp\n",
    "import numpy as np\n",
    " \n",
    "coef = np.array([2, 3, 4])\n",
    "left = np.array([[1.5, 3, 5], [280, 250, 400]])\n",
    "right = np.array([600, 60000])\n",
    "x = cp.Variable(3, integer=True)\n",
    "y = cp.Variable(3, integer=True)\n",
    "obj = cp.Maximize(coef @ x)\n",
    "cons = [x >= 0, left @ x <= right,\n",
    "        y >= 0, y <= 1,\n",
    "        x[0] >= 80 * y[0], x[0] <= 1000 * y[0],\n",
    "        x[1] >= 80 * y[1], x[1] <= 1000 * y[1],\n",
    "        x[2] >= 80 * y[2], x[2] <= 1000 * y[2], ]\n",
    "prob = cp.Problem(obj, cons)\n",
    "prob.solve(solver=\"GUROBI\")\n",
    "print(\"最优值：\", prob.value)\n",
    "print(\"最优解：\", x.value)\n",
    "print(\"钢材剩余量：\", right[0] - sum(left[0] * x.value))\n",
    "print(\"劳动时间剩余量：\", right[1] - sum(left[1] * x.value))"
   ]
  },
  {
   "cell_type": "code",
   "execution_count": 10,
   "metadata": {},
   "outputs": [
    {
     "name": "stdout",
     "output_type": "stream",
     "text": [
      "最优值： 5000.0\n",
      "最优解： [   0. 1500.    0. 1000.]\n",
      "购买原油A： 1000.0 t\n"
     ]
    }
   ],
   "source": [
    "# eg.5\n",
    "import cvxpy as cp\n",
    "import numpy as np\n",
    " \n",
    "coef_x = np.array([4.8, 5.6, 4.8, 5.6])#输入目标函数x对应系数\n",
    "coef_cx = np.array([0, 5000, 9000, 12000])#输入用z表示cx的系数\n",
    "coef_buy_x = np.array([0, 500, 1000, 1500])#输入用z表示x的系数\n",
    "left = np.array([[0, 0, 1, 1], [-1, 0, 1, 0], [0, -2, 0, 3]])#输入约束条件系数\n",
    "right = np.array([1000, 0, 0])#输入约束条件上限值\n",
    "x = cp.Variable(4)#创建决策变量x\n",
    "y = cp.Variable(3, integer=True)#创建0-1变量y\n",
    "z = cp.Variable(4)#创建变量z\n",
    "obj = cp.Maximize(coef_x @ x - coef_cx @ z)#构造目标函数\n",
    "#构造约束条件\n",
    "cons = [cp.sum(x[0:2]) <= 500 + cp.sum(coef_buy_x @ z),\n",
    "        left @ x <= right,\n",
    "        sum(coef_buy_x @ z) <= 1500,\n",
    "        x >= 0,\n",
    "        z[0] <= y[0], z[1] <= y[0] + y[1], z[2] <= y[1] + y[2], z[3] <= y[2],\n",
    "        cp.sum(z[:]) == 1, z >= 0,\n",
    "        cp.sum(y[:]) == 1,\n",
    "        y >= 0, y <= 1]\n",
    "prob = cp.Problem(obj, cons)#构造模型\n",
    "prob.solve(solver=\"GUROBI\")#求解模型\n",
    "print(\"最优值：\", prob.value)\n",
    "print(\"最优解：\", x.value)\n",
    "print(\"购买原油A：\", sum(coef_buy_x * z.value), \"t\")"
   ]
  },
  {
   "cell_type": "code",
   "execution_count": 11,
   "metadata": {},
   "outputs": [
    {
     "name": "stdout",
     "output_type": "stream",
     "text": [
      "最优值： 253.2\n",
      "最优解： [0. 0. 0. 1. 1. 0. 0. 0. 0. 1. 0. 0. 0. 0. 1. 0. 0. 0. 0. 0.]\n"
     ]
    }
   ],
   "source": [
    "# eg.6\n",
    "import cvxpy as cp\n",
    "import numpy as np\n",
    "#输入目标函数系数\n",
    "coef = np.array([66.8, 75.6, 87, 58.6,\n",
    "                 57.2, 66, 66.4, 53,\n",
    "                 78, 67.8, 84.6, 59.4,\n",
    "                 70, 74.2, 69.6, 57.2,\n",
    "                 67.4, 71, 83.8, 62.4])\n",
    "x = cp.Variable(20, integer=True)#构造决策变量\n",
    "#构造目标函数\n",
    "obj = cp.Minimize(coef @ x)\n",
    "#输入约束条件\n",
    "cons = [x >= 0, x <= 1,\n",
    "        cp.sum(x[0:4]) <= 1,\n",
    "        cp.sum(x[4:8]) <= 1,\n",
    "        cp.sum(x[8:12]) <= 1,\n",
    "        cp.sum(x[12:16]) <= 1,\n",
    "        cp.sum(x[16:20]) <= 1,\n",
    "        cp.sum(x[0:20:4]) == 1,\n",
    "        cp.sum(x[1:20:4]) == 1,\n",
    "        cp.sum(x[2:20:4]) == 1,\n",
    "        cp.sum(x[3:20:4]) == 1]\n",
    "prob = cp.Problem(obj, cons)#构造模型\n",
    "prob.solve(solver=\"GUROBI\")#模型求解\n",
    "print(\"最优值：\", prob.value)\n",
    "print(\"最优解：\", x.value)"
   ]
  },
  {
   "cell_type": "code",
   "execution_count": 12,
   "metadata": {},
   "outputs": [
    {
     "name": "stdout",
     "output_type": "stream",
     "text": [
      "选课结果： [ 1.  1.  1.  1.  1.  1.  1. -0.  1.]\n",
      "学分总和： 28.0\n"
     ]
    }
   ],
   "source": [
    "# eg.7\n",
    "import cvxpy as cp\n",
    "import numpy as np\n",
    "#输入目标函数的系数\n",
    "coef_obj = np.array([-0.8, -0.5, -0.5, -0.2, -0.5, -0.2, 0.1, 0.1, -0.2])\n",
    "coef_credits = np.array([5, 4, 4, 3, 4, 3, 2, 2, 3])#输入课程学分系数\n",
    "x = cp.Variable(9, integer=True)#构造决策变量\n",
    "obj = cp.Minimize(coef_obj @ x)#构造目标函数\n",
    "#输入约束条件\n",
    "cons = [cp.sum(x[0:5]) >= 2,\n",
    "        x[2] + [4] + x[5] + x[7] + x[8] >= 3,\n",
    "        x[3] + x[5] + x[6] + x[8] >= 2,\n",
    "        2 * x[2] - x[0] - x[1] <= 0,\n",
    "        x[3] - x[6] <= 0,\n",
    "        2 * x[4] - x[0] - x[1] <= 0,\n",
    "        x[5] - x[6] <= 0,\n",
    "        x[7] - x[4] <= 0,\n",
    "        2 * x[8] - x[0] - x[2] <= 0,\n",
    "        x >= 0, x <= 1]\n",
    "prob = cp.Problem(obj, cons)#模型构建\n",
    "prob.solve(solver=\"GUROBI\")#模型求解\n",
    "print(\"选课结果：\", x.value)\n",
    "print(\"学分总和：\", sum(coef_credits * x.value))"
   ]
  }
 ],
 "metadata": {
  "kernelspec": {
   "display_name": "base",
   "language": "python",
   "name": "python3"
  },
  "language_info": {
   "codemirror_mode": {
    "name": "ipython",
    "version": 3
   },
   "file_extension": ".py",
   "mimetype": "text/x-python",
   "name": "python",
   "nbconvert_exporter": "python",
   "pygments_lexer": "ipython3",
   "version": "3.7.6"
  },
  "orig_nbformat": 4
 },
 "nbformat": 4,
 "nbformat_minor": 2
}
