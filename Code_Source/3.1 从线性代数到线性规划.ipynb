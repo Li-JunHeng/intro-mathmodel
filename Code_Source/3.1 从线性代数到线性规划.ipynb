{
 "cells": [
  {
   "cell_type": "code",
   "execution_count": 1,
   "metadata": {},
   "outputs": [
    {
     "data": {
      "text/plain": [
       "array([[11.],\n",
       "       [12.],\n",
       "       [13.]])"
      ]
     },
     "execution_count": 1,
     "metadata": {},
     "output_type": "execute_result"
    }
   ],
   "source": [
    "from sympy import *\n",
    "import numpy as np  # 导入 numpy包\n",
    "a=np.array([[10,-1,-2],[-1,10,-2],[-1,-1,5]])\n",
    "b=np.array([[72],[83],[42]])\n",
    "c=np.linalg.solve(a,b)\n",
    "c"
   ]
  },
  {
   "cell_type": "code",
   "execution_count": 3,
   "metadata": {},
   "outputs": [
    {
     "name": "stdout",
     "output_type": "stream",
     "text": [
      "{x: 547/68, y: -984/119, z: 3977/476}\n"
     ]
    }
   ],
   "source": [
    "x,y,z=symbols('x y z')\n",
    "eqs=[Eq(10*x-y-2*z,72),Eq(-x-10*y+z,83),Eq(-x-y+5*z,42)]\n",
    "print(solve(eqs,[x,y,z]))"
   ]
  },
  {
   "cell_type": "code",
   "execution_count": 5,
   "metadata": {},
   "outputs": [
    {
     "name": "stdout",
     "output_type": "stream",
     "text": [
      "     con: array([1.80713489e-09])\n",
      "     fun: -14.571428565645059\n",
      " message: 'Optimization terminated successfully.'\n",
      "     nit: 5\n",
      "   slack: array([-2.24614993e-10,  3.85714286e+00])\n",
      "  status: 0\n",
      " success: True\n",
      "       x: array([6.42857143e+00, 5.71428571e-01, 2.35900788e-10])\n"
     ]
    }
   ],
   "source": [
    "import numpy as np\n",
    "from scipy.optimize import linprog\n",
    "\n",
    "c=np.array([-2,-3,5])\n",
    "Aeq=np.array([[1,1,1]])\n",
    "beq=np.array([7])\n",
    "A=np.array([[-2,5,-1],[1,3,1]])\n",
    "b=np.array([-10,12])\n",
    "x1,x2,x3=(0,None),(0,None),(0,None)\n",
    "\n",
    "res=linprog(c,A,b,Aeq,beq,bounds=(x1,x2,x3))\n",
    "print(res)"
   ]
  }
 ],
 "metadata": {
  "kernelspec": {
   "display_name": "base",
   "language": "python",
   "name": "python3"
  },
  "language_info": {
   "codemirror_mode": {
    "name": "ipython",
    "version": 3
   },
   "file_extension": ".py",
   "mimetype": "text/x-python",
   "name": "python",
   "nbconvert_exporter": "python",
   "pygments_lexer": "ipython3",
   "version": "3.7.6"
  },
  "orig_nbformat": 4
 },
 "nbformat": 4,
 "nbformat_minor": 2
}
