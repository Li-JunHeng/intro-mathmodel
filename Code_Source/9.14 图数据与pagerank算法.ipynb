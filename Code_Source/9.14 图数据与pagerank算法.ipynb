{
 "cells": [
  {
   "cell_type": "code",
   "execution_count": 1,
   "metadata": {},
   "outputs": [
    {
     "name": "stdout",
     "output_type": "stream",
     "text": [
      "PageRank: [0.32024156 0.17358336 0.17358336 0.33259172]\n"
     ]
    }
   ],
   "source": [
    "import numpy as np\n",
    "# PageRank算法\n",
    "def pagerank_algorithm(adjacency_matrix, damping_factor=0.85, max_iterations=100, convergence_threshold=0.0001):\n",
    "    n = len(adjacency_matrix)\n",
    "    # 构建转移矩阵\n",
    "    transition_matrix = adjacency_matrix / np.sum(adjacency_matrix, axis=0, keepdims=True)\n",
    "    # 初始化PageRank向量\n",
    "    pagerank = np.ones(n) / n\n",
    "    # 开始迭代\n",
    "    for i in range(max_iterations):\n",
    "        old_pagerank = np.copy(pagerank)\n",
    "        # 计算新的PageRank向量\n",
    "        pagerank = damping_factor * np.dot(transition_matrix, old_pagerank) + (1 - damping_factor) / n\n",
    "        # 判断是否收敛\n",
    "        if np.sum(np.abs(pagerank - old_pagerank)) < convergence_threshold:\n",
    "            break\n",
    "    return pagerank\n",
    "# 测试代码\n",
    "if __name__ == '__main__':\n",
    "    links = [(0, 1), (0, 2), (1, 3), (2, 3), (3, 0)]\n",
    "    n = 4\n",
    "    adjacency_matrix = np.zeros((n, n))\n",
    "    for link in links:\n",
    "        adjacency_matrix[link[1]][link[0]] = 1\n",
    "    pagerank = pagerank_algorithm(adjacency_matrix)\n",
    "    print('PageRank:', pagerank)"
   ]
  }
 ],
 "metadata": {
  "kernelspec": {
   "display_name": "base",
   "language": "python",
   "name": "python3"
  },
  "language_info": {
   "codemirror_mode": {
    "name": "ipython",
    "version": 3
   },
   "file_extension": ".py",
   "mimetype": "text/x-python",
   "name": "python",
   "nbconvert_exporter": "python",
   "pygments_lexer": "ipython3",
   "version": "3.7.6"
  },
  "orig_nbformat": 4
 },
 "nbformat": 4,
 "nbformat_minor": 2
}
