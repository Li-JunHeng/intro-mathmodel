{
 "cells": [
  {
   "cell_type": "code",
   "execution_count": null,
   "metadata": {},
   "outputs": [],
   "source": [
    "import numpy as np\n",
    "import pandas as pd"
   ]
  },
  {
   "cell_type": "code",
   "execution_count": null,
   "metadata": {},
   "outputs": [],
   "source": [
    "df = pd.read_csv('name.csv',header=1)\n",
    "# df = pd.read_excel('name.xlsx')"
   ]
  },
  {
   "cell_type": "code",
   "execution_count": null,
   "metadata": {},
   "outputs": [],
   "source": [
    "df = pd.DataFrame({\"id\":[1001,1002,1003,1004,1005,1006], \n",
    " \"date\":pd.date_range('20130102', periods=6),\n",
    "  \"city\":['Beijing ', 'SH', ' guangzhou ', 'Shenzhen', 'shanghai', 'BEIJING '],\n",
    " \"age\":[23,44,54,32,34,32],\n",
    " \"category\":['100-A','100-B','110-A','110-C','210-A','130-F'],\n",
    "  \"price\":[1200,np.nan,2133,5433,np.nan,4432]},\n",
    "  columns =['id','date','city','category','age','price'])"
   ]
  },
  {
   "cell_type": "code",
   "execution_count": null,
   "metadata": {},
   "outputs": [],
   "source": [
    "df.shape"
   ]
  },
  {
   "cell_type": "code",
   "execution_count": null,
   "metadata": {},
   "outputs": [],
   "source": [
    "df.info()"
   ]
  },
  {
   "cell_type": "code",
   "execution_count": null,
   "metadata": {},
   "outputs": [],
   "source": [
    "row_indx_name_1 = df.index  # 得到一个对象\n",
    "row_indx_name_2 = df.index.values #得到一个列表"
   ]
  },
  {
   "cell_type": "code",
   "execution_count": null,
   "metadata": {},
   "outputs": [],
   "source": [
    "# 查看所有列的列名\n",
    "df.columns # 得到的是一个series对象\n",
    "df.columns.values # 得到的是一个列表"
   ]
  },
  {
   "cell_type": "code",
   "execution_count": null,
   "metadata": {},
   "outputs": [],
   "source": [
    "'''\n",
    "print(df.at['行标签名', '列标签名'])\n",
    "print(df.iat['行索引号', '列索引号'])\n",
    " \n",
    "print(df.loc['行标签名', '列标签名'])\n",
    "print(df.iloc[行索引数字, 列索引数字])\n",
    " \n",
    "print(df.loc['行标签名1':'行标签名2', '列标签名1': '列标签名2'])\n",
    "print(df.iloc[行索引数字1:行索引数字2, 列索引数字1:列索引数字2])\n",
    "'''"
   ]
  },
  {
   "cell_type": "code",
   "execution_count": null,
   "metadata": {},
   "outputs": [],
   "source": [
    "df.dtypes"
   ]
  },
  {
   "cell_type": "code",
   "execution_count": null,
   "metadata": {},
   "outputs": [],
   "source": [
    "df[\"姓名\"].values # 获取某一列的所有数值 \n",
    "# 说明:需要先用对应列的列名称“姓名”获取对应列对象，然后用.values将对象转变为列表"
   ]
  },
  {
   "cell_type": "code",
   "execution_count": null,
   "metadata": {},
   "outputs": [],
   "source": [
    "df['B'].isnull()"
   ]
  },
  {
   "cell_type": "code",
   "execution_count": null,
   "metadata": {},
   "outputs": [],
   "source": [
    "df['B'].unique()"
   ]
  },
  {
   "cell_type": "code",
   "execution_count": null,
   "metadata": {},
   "outputs": [],
   "source": [
    "import pandas as pd\n",
    " \n",
    "dataframe=pd.DataFrame({\"a\":[1,2,3],\"b\":[\"aaa\",\"bbb\",\"ccc\"]}) \n",
    " \n",
    "#选取 属性“a” 中 大于1的行：\n",
    "dataframe[dataframe.a>1]\n",
    " \n",
    "#选取 属性“a” 中 大于1的 “b”列\n",
    "dataframe[\"b\"][dataframe.a>1]\n",
    " \n",
    "#选取属性“b”在list 中 行\n",
    "list=[\"aaa\",\"ccc\"]\n",
    "dataframe[dataframe.b.isin(list)]"
   ]
  },
  {
   "cell_type": "code",
   "execution_count": null,
   "metadata": {},
   "outputs": [],
   "source": [
    "\"\"\"导出为excel或csv文件\"\"\"\n",
    "#单条件\n",
    "dataframe_1 = df.loc[df['部门'] == 'A', ['姓名', '工资']]\n",
    "#单条件\n",
    "dataframe_2 = df.loc[df['工资'] < 3000, ['姓名', '工资']]\n",
    "#多条件\n",
    "dataframe_3 = df.loc[(df['部门'] == 'A')&(df['工资'] < 3000), ['姓名', '工资']]\n",
    "#导出为excel\n",
    "dataframe_1.to_excel('dataframe_1.xlsx')\n",
    "dataframe_2.to_excel('dataframe_2.xlsx')"
   ]
  },
  {
   "cell_type": "code",
   "execution_count": null,
   "metadata": {},
   "outputs": [],
   "source": [
    "df.fillna(value=0)"
   ]
  },
  {
   "cell_type": "code",
   "execution_count": null,
   "metadata": {},
   "outputs": [],
   "source": [
    "df['prince'].fillna(df['prince'].mean())"
   ]
  },
  {
   "cell_type": "code",
   "execution_count": null,
   "metadata": {},
   "outputs": [],
   "source": [
    "df['city']=df['city'].str.lower()"
   ]
  },
  {
   "cell_type": "code",
   "execution_count": null,
   "metadata": {},
   "outputs": [],
   "source": [
    "df['price'].astype('int')       "
   ]
  },
  {
   "cell_type": "code",
   "execution_count": null,
   "metadata": {},
   "outputs": [],
   "source": [
    "df['city'].drop_duplicates()"
   ]
  },
  {
   "cell_type": "code",
   "execution_count": null,
   "metadata": {},
   "outputs": [],
   "source": [
    "df1=pd.DataFrame({\"id\":[1001,1002,1003,1004,1005,1006,1007,1008], \n",
    "\"gender\":['male','female','male','female','male','female','male','female'],\n",
    "\"pay\":['Y','N','Y','Y','N','Y','N','Y',],\n",
    "\"m-point\":[10,12,20,40,40,40,30,20]})"
   ]
  },
  {
   "cell_type": "code",
   "execution_count": null,
   "metadata": {},
   "outputs": [],
   "source": [
    "df_inner=pd.merge(df,df1,how='inner')  # 匹配合并，交集\n",
    "df_left=pd.merge(df,df1,how='left')        #\n",
    "df_right=pd.merge(df,df1,how='right')\n",
    "df_outer=pd.merge(df,df1,how='outer')  #并集"
   ]
  },
  {
   "cell_type": "code",
   "execution_count": null,
   "metadata": {},
   "outputs": [],
   "source": [
    "result = df1.append(df)"
   ]
  },
  {
   "cell_type": "code",
   "execution_count": null,
   "metadata": {},
   "outputs": [],
   "source": [
    "df_inner.set_index('id')"
   ]
  },
  {
   "cell_type": "code",
   "execution_count": null,
   "metadata": {},
   "outputs": [],
   "source": [
    "df_inner.sort_values(by=['age'])"
   ]
  },
  {
   "cell_type": "code",
   "execution_count": null,
   "metadata": {},
   "outputs": [],
   "source": [
    "df_inner.sort_index()"
   ]
  },
  {
   "cell_type": "code",
   "execution_count": null,
   "metadata": {},
   "outputs": [],
   "source": [
    "pd.DataFrame((x.split('-') for x in df_inner['category']),index=df_inner.index,columns=['category','size'])"
   ]
  },
  {
   "cell_type": "code",
   "execution_count": null,
   "metadata": {},
   "outputs": [],
   "source": [
    "df_inner.loc[(df_inner['age'] > 25) & (df_inner['city'] == 'beijing'), ['id','city','age','category','gender']]"
   ]
  },
  {
   "cell_type": "code",
   "execution_count": null,
   "metadata": {},
   "outputs": [],
   "source": [
    "df_inner.loc[(df_inner['age'] > 25) | (df_inner['city'] == 'beijing'), ['id','city','age','category','gender']].sort(['age']) "
   ]
  },
  {
   "cell_type": "code",
   "execution_count": null,
   "metadata": {},
   "outputs": [],
   "source": [
    "df_inner.loc[(df_inner['city'] != 'beijing'), ['id','city','age','category','gender']].sort(['id']) "
   ]
  },
  {
   "cell_type": "code",
   "execution_count": null,
   "metadata": {},
   "outputs": [],
   "source": [
    "df_inner.groupby(['city','size'])['id'].count()"
   ]
  },
  {
   "cell_type": "code",
   "execution_count": null,
   "metadata": {},
   "outputs": [],
   "source": [
    "df_inner.sample(n=3) "
   ]
  },
  {
   "cell_type": "code",
   "execution_count": null,
   "metadata": {},
   "outputs": [],
   "source": [
    "df_inner.describe()"
   ]
  },
  {
   "cell_type": "code",
   "execution_count": null,
   "metadata": {},
   "outputs": [],
   "source": [
    "df_inner.cov()"
   ]
  },
  {
   "cell_type": "code",
   "execution_count": null,
   "metadata": {},
   "outputs": [],
   "source": [
    "df_inner.corr()"
   ]
  },
  {
   "cell_type": "code",
   "execution_count": null,
   "metadata": {},
   "outputs": [],
   "source": [
    "df_inner.to_excel('excel_to_python.xlsx', sheet_name='bluewhale_cc') "
   ]
  }
 ],
 "metadata": {
  "language_info": {
   "name": "python"
  }
 },
 "nbformat": 4,
 "nbformat_minor": 2
}
